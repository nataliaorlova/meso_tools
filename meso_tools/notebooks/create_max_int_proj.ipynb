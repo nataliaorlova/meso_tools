{
 "cells": [
  {
   "cell_type": "code",
   "execution_count": null,
   "metadata": {},
   "outputs": [],
   "source": [
    "import meso_tools as mt\n",
    "import os\n",
    "import matplotlib.pyplot as pl\n",
    "import pandas as pd"
   ]
  },
  {
   "cell_type": "code",
   "execution_count": null,
   "metadata": {},
   "outputs": [],
   "source": [
    "lims_credentials =  {}\n",
    "write_folder = '\\\\\\\\allen\\\\programs\\\\mindscope\\\\workgroups\\\\learning\\\\SNR'"
   ]
  },
  {
   "cell_type": "code",
   "execution_count": null,
   "metadata": {},
   "outputs": [],
   "source": [
    "lapi = mt.LimsApi(lims_credentials)\n",
    "vis_beh_mul_exp = lapi.get_experiments_in_project('VisualBehaviorMultiscope')\n",
    "len(vis_beh_mul_exp)\n",
    "\n",
    "learning_mfish_exp = lapi.get_experiments_in_project('LearningmFISHTask1A')\n",
    "len(learning_mfish_exp)\n",
    "\n",
    "learning_mfish_dev_exp = lapi.get_experiments_in_project('LearningmFISHDevelopment')\n",
    "len(learning_mfish_dev_exp)\n",
    "\n",
    "exps = [learning_mfish_exp['exp_id'].values, vis_beh_mul_exp['exp_id'].values, learning_mfish_dev_exp['exp_id'].values]\n",
    "exps = exps[0]"
   ]
  },
  {
   "cell_type": "code",
   "execution_count": null,
   "metadata": {},
   "outputs": [],
   "source": [
    "for i, exp in enumerate(exps):\n",
    "    write_path_mean = os.path.join(write_folder, f'{exp}_avg_int.tif')\n",
    "    write_path_max = os.path.join(write_folder, f'{exp}_max_int.tif')\n",
    "    if not os.path.exists(write_path_mean):\n",
    "        mc_stack_path = lapi.get_motion_corrected_stack(exp)\n",
    "        if  mc_stack_path:\n",
    "            mc_stack_path_local = mc_stack_path.replace('/', '\\\\')\n",
    "            mc_stack_path_local = mc_stack_path_local.replace('\\\\allen', '\\\\\\\\allen')\n",
    "            stack = mt.load_motion_corrected_movie(mc_stack_path_local, pages=1000)\n",
    "            stack_mean = stack.mean(axis=0)\n",
    "            stack_max = stack.max(axis=0)\n",
    "            mt.write_tiff(write_path_mean, stack_mean)\n",
    "            mt.write_tiff(write_path_max, stack_max)\n",
    "        else:\n",
    "            pass\n",
    "    else:\n",
    "        print(f\"Local mean average for {exp} exists in {write_folder}\")"
   ]
  },
  {
   "cell_type": "code",
   "execution_count": null,
   "metadata": {},
   "outputs": [],
   "source": []
  },
  {
   "cell_type": "code",
   "execution_count": null,
   "metadata": {},
   "outputs": [],
   "source": []
  }
 ],
 "metadata": {
  "kernelspec": {
   "display_name": "Python 3.8.13 64-bit ('meso_data')",
   "language": "python",
   "name": "python3"
  },
  "language_info": {
   "name": "python",
   "version": "3.8.13"
  },
  "orig_nbformat": 4,
  "vscode": {
   "interpreter": {
    "hash": "93b59e4be843ad01b25e072360926e6c2d45181b6c7b73e4072bd71866793653"
   }
  }
 },
 "nbformat": 4,
 "nbformat_minor": 2
}
