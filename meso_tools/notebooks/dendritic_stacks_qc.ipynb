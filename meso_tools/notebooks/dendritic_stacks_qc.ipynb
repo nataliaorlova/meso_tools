{
 "cells": [
  {
   "cell_type": "markdown",
   "metadata": {},
   "source": [
    "## In this ntoebook we will generate data and plot to QC the stacks\n",
    "### 1. Load data for 4-ROI stack from disk\n",
    "### 2. Load 2-ROI stacks and ... \n",
    "####       a) generate 100 frame average array\n",
    "####       b) write 50 pages of averaged stack to disk for rpeview\n",
    "####       c) calculate mean and variance of each averaged plane for entire stack\n",
    "### 3. Plot mean and variance of the new stack vs 4 ROI stack"
   ]
  },
  {
   "cell_type": "code",
   "execution_count": null,
   "metadata": {},
   "outputs": [],
   "source": [
    "import meso_tools as mt\n",
    "import os\n",
    "import numpy as np\n",
    "import matplotlib.pyplot as pl\n",
    "import tifffile\n",
    "import sciris as sc"
   ]
  },
  {
   "cell_type": "markdown",
   "metadata": {},
   "source": [
    "\n",
    "### 1. Load data for 4 ROI stack - TBD\n"
   ]
  },
  {
   "cell_type": "code",
   "execution_count": null,
   "metadata": {},
   "outputs": [
    {
     "ename": "FileNotFoundError",
     "evalue": "[Errno 2] No such file or directory: '/Users/nataliaorlova/Code/Packages/meso_tools/meso_tools/notebooks/E:\\\\dev_data\\\\OS_dendrites_stacks_pilots\\\\4roi_comparison_data\\\\4_roi_data.dict'",
     "output_type": "error",
     "traceback": [
      "\u001b[0;31m---------------------------------------------------------------------------\u001b[0m\n",
      "\u001b[0;31mFileNotFoundError\u001b[0m                         Traceback (most recent call last)\n",
      "\u001b[1;32m/Users/nataliaorlova/Code/Packages/meso_tools/meso_tools/notebooks/dendritic_stacks_qc.ipynb Cell 4'\u001b[0m in \u001b[0;36m<cell line: 2>\u001b[0;34m()\u001b[0m\n",
      "\u001b[1;32m      <a href='vscode-notebook-cell:/Users/nataliaorlova/Code/Packages/meso_tools/meso_tools/notebooks/dendritic_stacks_qc.ipynb#ch0000004?line=0'>1</a>\u001b[0m path \u001b[39m=\u001b[39m \u001b[39m\"\u001b[39m\u001b[39mE:\u001b[39m\u001b[39m\\\\\u001b[39;00m\u001b[39mdev_data\u001b[39m\u001b[39m\\\\\u001b[39;00m\u001b[39mOS_dendrites_stacks_pilots\u001b[39m\u001b[39m\\\\\u001b[39;00m\u001b[39m4roi_comparison_data\u001b[39m\u001b[39m\\\\\u001b[39;00m\u001b[39m4_roi_data.dict\u001b[39m\u001b[39m\"\u001b[39m\n",
      "\u001b[0;32m----> <a href='vscode-notebook-cell:/Users/nataliaorlova/Code/Packages/meso_tools/meso_tools/notebooks/dendritic_stacks_qc.ipynb#ch0000004?line=1'>2</a>\u001b[0m four_roi_data \u001b[39m=\u001b[39m sc\u001b[39m.\u001b[39;49mloadobj(path)\n",
      "\n",
      "File \u001b[0;32m~/opt/anaconda3/envs/meso_data/lib/python3.8/site-packages/sciris/sc_fileio.py:125\u001b[0m, in \u001b[0;36mloadobj\u001b[0;34m(filename, folder, verbose, die, remapping, method, **kwargs)\u001b[0m\n",
      "\u001b[1;32m    123\u001b[0m exc \u001b[39m=\u001b[39m \u001b[39mtype\u001b[39m(E) \u001b[39m# Figure out what kind of error it is\u001b[39;00m\n",
      "\u001b[1;32m    124\u001b[0m \u001b[39mif\u001b[39;00m exc \u001b[39m==\u001b[39m \u001b[39mFileNotFoundError\u001b[39;00m: \u001b[39m# This is simple, just raise directly\u001b[39;00m\n",
      "\u001b[0;32m--> 125\u001b[0m     \u001b[39mraise\u001b[39;00m E\n",
      "\u001b[1;32m    126\u001b[0m \u001b[39melif\u001b[39;00m exc \u001b[39m==\u001b[39m gz\u001b[39m.\u001b[39mBadGzipFile:\n",
      "\u001b[1;32m    127\u001b[0m     \u001b[39mtry\u001b[39;00m: \u001b[39m# If the gzip file failed, first try as a regular object\u001b[39;00m\n",
      "\n",
      "File \u001b[0;32m~/opt/anaconda3/envs/meso_data/lib/python3.8/site-packages/sciris/sc_fileio.py:120\u001b[0m, in \u001b[0;36mloadobj\u001b[0;34m(filename, folder, verbose, die, remapping, method, **kwargs)\u001b[0m\n",
      "\u001b[1;32m    118\u001b[0m \u001b[39m# Load the file\u001b[39;00m\n",
      "\u001b[1;32m    119\u001b[0m \u001b[39mtry\u001b[39;00m:\n",
      "\u001b[0;32m--> 120\u001b[0m     \u001b[39mwith\u001b[39;00m gz\u001b[39m.\u001b[39;49mGzipFile(\u001b[39m*\u001b[39;49m\u001b[39m*\u001b[39;49mfileargs) \u001b[39mas\u001b[39;00m fileobj:\n",
      "\u001b[1;32m    121\u001b[0m         filestr \u001b[39m=\u001b[39m fileobj\u001b[39m.\u001b[39mread() \u001b[39m# Convert it to a string\u001b[39;00m\n",
      "\u001b[1;32m    122\u001b[0m \u001b[39mexcept\u001b[39;00m \u001b[39mException\u001b[39;00m \u001b[39mas\u001b[39;00m E: \u001b[39m# pragma: no cover\u001b[39;00m\n",
      "\n",
      "File \u001b[0;32m~/opt/anaconda3/envs/meso_data/lib/python3.8/gzip.py:173\u001b[0m, in \u001b[0;36mGzipFile.__init__\u001b[0;34m(self, filename, mode, compresslevel, fileobj, mtime)\u001b[0m\n",
      "\u001b[1;32m    171\u001b[0m     mode \u001b[39m+\u001b[39m\u001b[39m=\u001b[39m \u001b[39m'\u001b[39m\u001b[39mb\u001b[39m\u001b[39m'\u001b[39m\n",
      "\u001b[1;32m    172\u001b[0m \u001b[39mif\u001b[39;00m fileobj \u001b[39mis\u001b[39;00m \u001b[39mNone\u001b[39;00m:\n",
      "\u001b[0;32m--> 173\u001b[0m     fileobj \u001b[39m=\u001b[39m \u001b[39mself\u001b[39m\u001b[39m.\u001b[39mmyfileobj \u001b[39m=\u001b[39m builtins\u001b[39m.\u001b[39;49mopen(filename, mode \u001b[39mor\u001b[39;49;00m \u001b[39m'\u001b[39;49m\u001b[39mrb\u001b[39;49m\u001b[39m'\u001b[39;49m)\n",
      "\u001b[1;32m    174\u001b[0m \u001b[39mif\u001b[39;00m filename \u001b[39mis\u001b[39;00m \u001b[39mNone\u001b[39;00m:\n",
      "\u001b[1;32m    175\u001b[0m     filename \u001b[39m=\u001b[39m \u001b[39mgetattr\u001b[39m(fileobj, \u001b[39m'\u001b[39m\u001b[39mname\u001b[39m\u001b[39m'\u001b[39m, \u001b[39m'\u001b[39m\u001b[39m'\u001b[39m)\n",
      "\n",
      "\u001b[0;31mFileNotFoundError\u001b[0m: [Errno 2] No such file or directory: '/Users/nataliaorlova/Code/Packages/meso_tools/meso_tools/notebooks/E:\\\\dev_data\\\\OS_dendrites_stacks_pilots\\\\4roi_comparison_data\\\\4_roi_data.dict'"
     ]
    }
   ],
   "source": [
    "\n",
    "path = \"E:\\\\dev_data\\\\OS_dendrites_stacks_pilots\\\\4roi_comparison_data\\\\4_roi_data.dict\"\n",
    "four_roi_data = sc.loadobj(path)\n"
   ]
  },
  {
   "cell_type": "markdown",
   "metadata": {},
   "source": [
    "\n",
    "### 2. Load 2-ROI stacks\n"
   ]
  },
  {
   "cell_type": "markdown",
   "metadata": {},
   "source": [
    "\n",
    "##### modify cell below to have correct path to the folder with 2 ROI stacks and corect names in teh roi_names list: in sequence they were acquire din stacks\n"
   ]
  },
  {
   "cell_type": "code",
   "execution_count": null,
   "metadata": {},
   "outputs": [],
   "source": [
    "\n",
    "folder_with_2ROI_stacks = \"E:\\\\dev_data\\\\OS_dendrites_stacks_pilots\\\\621602\"\n",
    "surface_soma_stack1_path = \"E:\\\\dev_data\\\\OS_dendrites_stacks_pilots\\\\621602\\\\621602_V1_LM_surface_soma_00001.tif\"\n",
    "surface_soma_stack2_path = \"\"\n",
    "roi_names= ['V1', 'LM', 'AM', 'PM']"
   ]
  },
  {
   "cell_type": "code",
   "execution_count": null,
   "metadata": {},
   "outputs": [],
   "source": [
    "\n",
    "stacks = [surface_soma_stack1_path, surface_soma_stack2_path]\n",
    "means = []\n",
    "variances = []\n",
    "rois=[]\n"
   ]
  },
  {
   "cell_type": "code",
   "execution_count": null,
   "metadata": {},
   "outputs": [],
   "source": [
    "\n",
    "for stack in stacks:\n",
    "\n",
    "    tiff=tifffile.TiffFile(stack, mode='rb')\n",
    "    num_frames = len(tiff.pages)\n",
    "    #stack parameters\n",
    "    ROIs = 2\n",
    "    image_dim = 768\n",
    "    spacer = 24\n",
    "    chunk_size = 100\n",
    "    chunk_num = int(np.ceil(num_frames / chunk_size))\n",
    "    print(f\"Stack will be processed in {chunk_num} chunks\")\n",
    "\n",
    "    # Initiallize arrays for averaged stacks, mean and variance outputs\n",
    "    roi1 = np.zeros((int(num_frames/chunk_size), image_dim , image_dim))\n",
    "    roi2 = np.zeros((int(num_frames/chunk_size), image_dim , image_dim))\n",
    "\n",
    "    mean1 = np.zeros((int(num_frames/chunk_size)))\n",
    "    mean2 = np.zeros((int(num_frames/chunk_size)))\n",
    "\n",
    "    var1 = np.zeros((int(num_frames/chunk_size)))\n",
    "    var2 = np.zeros((int(num_frames/chunk_size)))\n",
    "\n",
    "\n",
    "    # loop over chunks to generate averaged stack and calculate mean and variance\n",
    "\n",
    "    for i in range(chunk_num):\n",
    "\n",
    "        # load chunk of tiff:\n",
    "        frame_start = chunk_size*i\n",
    "        frame_end = chunk_size*(i+1)\n",
    "\n",
    "        # handling of the last chunk \n",
    "        if frame_end > num_frames:\n",
    "            frame_end = num_frames\n",
    "        print(f'Loading {i}th chunk, frames {frame_start} to {frame_end}')\n",
    "        tiff_array = tiff.asarray(range(frame_start,frame_end))\n",
    "\n",
    "        num_frames_chunk = tiff_array.shape[0]\n",
    "\n",
    "        # split and average 4 rois - single planes\n",
    "        roi1[i,:,:] = tiff_array[:,:image_dim,:].mean(axis=0)\n",
    "        roi2[i,:,:] = tiff_array[:,image_dim+spacer:2*image_dim+spacer,:].mean(axis=0)\n",
    "\n",
    "\n",
    "        mean1[i] = np.mean(roi1[i,:,:],axis=(0,1))\n",
    "        mean2[i] = np.mean(roi2[i,:,:],axis=(0,1))\n",
    "        var1[i] = np.var(roi1[i,:,:])\n",
    "        var2[i] = np.var(roi2[i,:,:])        \n",
    "\n",
    "    tiff.close()\n",
    "\n",
    "    means.append(mean1)\n",
    "    means.append(mean2)\n",
    "    variances.append(var1)\n",
    "    variances.append(var2)\n",
    "    rois.append(roi1)\n",
    "    rois.append(roi2)\n"
   ]
  },
  {
   "cell_type": "code",
   "execution_count": null,
   "metadata": {},
   "outputs": [],
   "source": [
    "\n",
    "# write stacks with averaged frames to disk\n",
    "for i, roi_name in enumerate(roi_names):\n",
    "    roi_path = os.path.join(folder_with_2ROI_stacks, f\"{roi_name}_avg.tiff\")\n",
    "    mt.write_tiff(roi_path, rois[i].astype(np.int16))\n",
    "    \n",
    "    mean_path = os.path.join(folder_with_2ROI_stacks, f\"{roi_name}_mean.dict\")\n",
    "    sc.saveobj(mean_path, means[i])\n",
    "    \n",
    "    var_path = os.path.join(folder_with_2ROI_stacks, f\"{roi_name}_var.dict\")\n",
    "    sc.saveobj(var_path, variances[i])\n"
   ]
  },
  {
   "cell_type": "code",
   "execution_count": null,
   "metadata": {},
   "outputs": [],
   "source": [
    "\n",
    "### 3. plot 2-roi vs 4-roi data\n",
    "\n",
    "four_roi_mean = [four_roi_data['roi0_mean'], four_roi_data['roi1_mean'], four_roi_data['roi2_mean'], four_roi_data['roi3_mean']]\n",
    "two_roi_mean = [means[0], means[1], means[2], means[3]]\n",
    "\n",
    "four_roi_var = [four_roi_data['roi0_var'], four_roi_data['roi1_var'], four_roi_data['roi2_var'], four_roi_data['roi3_var']]\n",
    "two_roi_var = [variances[0], variances[1], variances[2], variances[3]]\n"
   ]
  },
  {
   "cell_type": "code",
   "execution_count": null,
   "metadata": {},
   "outputs": [],
   "source": [
    "\n",
    "four_roi_mean[0].shape\n",
    "\n",
    "two_roi_mean[0].shape\n",
    "\n",
    "fig, ax = pl.subplots(1,2, figsize=(16,5))\n",
    "\n",
    "# plottnig 4-roi reference data\n",
    "pl.sca(ax[0])\n",
    "pl.ylabel('mean pixel value',fontsize=15)\n",
    "pl.xlabel('plane',fontsize=15)\n",
    "pl.title('4ROI Mean value per plane', fontsize=15)\n",
    "print(f\"Max intensity values for 4 ROI reference data: \\n\")\n",
    "# pl.plot(np.array(four_roi_mean).T)\n",
    "for i, mean in enumerate(four_roi_mean):\n",
    "    line, = pl.plot(mean.T)\n",
    "    line.set_label(roi_names[i])\n",
    "    max_val = np.max(mean.T)\n",
    "    print(f\"Max value for {roi_names[i]} is {max_val}, at plane number {np.where(mean.T == max_val)[0][0]}\")\n",
    "pl.legend()\n",
    "\n",
    "#plotting current stack data\n",
    "pl.sca(ax[1])\n",
    "pl.title('2ROI Mean value per plane', fontsize=15)  \n",
    "print(f\"\\nMax intensity values for current stacks: \\n\")\n",
    "for i, mean in enumerate(means):\n",
    "    line, = pl.plot(mean)\n",
    "    line.set_label(roi_names[i])\n",
    "    max_val = np.max(mean.T)\n",
    "    print(f\"Max value for {roi_names[i]} is {max_val}, at plane number {np.where(mean.T == max_val)[0][0]}\")\n",
    "pl.ylabel('mean pixel value',fontsize=15)\n",
    "pl.xlabel('plane',fontsize=15)\n",
    "pl.legend()"
   ]
  }
 ],
 "metadata": {
  "language_info": {
   "name": "python"
  },
  "orig_nbformat": 4
 },
 "nbformat": 4,
 "nbformat_minor": 2
}
