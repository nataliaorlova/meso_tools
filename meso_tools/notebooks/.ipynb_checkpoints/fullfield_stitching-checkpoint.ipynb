{
 "cells": [
  {
   "cell_type": "code",
   "execution_count": null,
   "metadata": {},
   "outputs": [],
   "source": [
    "from IPython.core.display import display, HTML\n",
    "display(HTML(\"<style>.container { width:100% !important; }</style>\"))\n"
   ]
  },
  {
   "cell_type": "code",
   "execution_count": null,
   "metadata": {},
   "outputs": [],
   "source": [
    "import matplotlib.pyplot as pl\n",
    "from meso_tools.io_utils import read_si_metadata as get_meta\n",
    "from meso_tools.io_utils import read_tiff, write_tiff\n",
    "from meso_tools.stitch_full_field import *\n"
   ]
  },
  {
   "cell_type": "markdown",
   "metadata": {},
   "source": []
  },
  {
   "cell_type": "markdown",
   "metadata": {},
   "source": [
    "### edit cell below to have correct session ID"
   ]
  },
  {
   "cell_type": "code",
   "execution_count": null,
   "metadata": {},
   "outputs": [],
   "source": [
    "\n",
    "session_id = 1190324963\n"
   ]
  },
  {
   "cell_type": "code",
   "execution_count": null,
   "metadata": {},
   "outputs": [],
   "source": [
    "\n",
    "GAP = 24\n",
    "\n",
    "path_to_tiff = f\"E:\\\\scanimage_ophys\\\\data/{session_id}\\\\{session_id}_fullfield.tiff\"\n",
    "tiff_array = read_tiff(path_to_tiff)\n",
    "\n",
    "meta = get_meta(path_to_tiff)\n",
    "\n",
    "ff_meta_dict = read_full_field_meta(meta)\n",
    "\n",
    "ff_meta_dict = check_meta(ff_meta_dict)\n",
    "\n",
    "check_tiff(tiff_array, ff_meta_dict)\n",
    "\n",
    "output_tiff_shape = check_tiff(tiff_array, ff_meta_dict)\n",
    "\n",
    "ff_averaged_tiff = average_tiff(tiff_array, ff_meta_dict)\n",
    "\n",
    "ff_stitched_tiff, ff_meta_dict = stitch_tiff(ff_averaged_tiff, ff_meta_dict, output_tiff_shape)\n",
    "\n",
    "surface_path = f\"E:\\\\scanimage_ophys\\\\data\\\\{session_id}\\\\{session_id}_averaged_surface.tiff\"\n",
    "\n",
    "split_surface_meta, surface_averaged = split_surface(surface_path)\n",
    "\n",
    "ff_stitched_w_surface = insert_surface_to_ff(ff_stitched_tiff, ff_meta_dict, split_surface_meta)\n",
    "\n",
    "write_tiff(path_to_tiff, ff_stitched_w_surface)\n",
    "\n",
    "pl.figure(figsize =[10,10])\n",
    "pl.imshow(ff_stitched_w_surface)"
   ]
  }
 ],
 "metadata": {
  "kernelspec": {
   "display_name": "Python 3 (ipykernel)",
   "language": "python",
   "name": "python3"
  },
  "language_info": {
   "codemirror_mode": {
    "name": "ipython",
    "version": 3
   },
   "file_extension": ".py",
   "mimetype": "text/x-python",
   "name": "python",
   "nbconvert_exporter": "python",
   "pygments_lexer": "ipython3",
   "version": "3.8.5"
  }
 },
 "nbformat": 4,
 "nbformat_minor": 2
}
