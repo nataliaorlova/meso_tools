{
 "cells": [
  {
   "cell_type": "code",
   "execution_count": 1,
   "metadata": {},
   "outputs": [
    {
     "name": "stderr",
     "output_type": "stream",
     "text": [
<<<<<<< Updated upstream
      "C:\\Users\\svc_mesoscope\\AppData\\Local\\Temp\\ipykernel_8244\\3391910190.py:1: DeprecationWarning: Importing display from IPython.core.display is deprecated since IPython 7.14, please import from IPython display\n",
=======
      "C:\\Users\\svc_mesoscope\\AppData\\Local\\Temp\\ipykernel_18232\\3777615979.py:1: DeprecationWarning: Importing display from IPython.core.display is deprecated since IPython 7.14, please import from IPython display\n",
>>>>>>> Stashed changes
      "  from IPython.core.display import display, HTML\n"
     ]
    },
    {
     "data": {
      "text/html": [
       "<style>.container { width:100% !important; }</style>"
      ],
      "text/plain": [
       "<IPython.core.display.HTML object>"
      ]
     },
     "metadata": {},
     "output_type": "display_data"
    }
   ],
   "source": [
    "from IPython.core.display import display, HTML\n",
<<<<<<< Updated upstream
    "display(HTML(\"<style>.container { width:100% !important; }</style>\"))\n"
=======
    "display(HTML(\"<style>.container { width:100% !important; }</style>\"))"
>>>>>>> Stashed changes
   ]
  },
  {
   "cell_type": "code",
   "execution_count": 2,
   "metadata": {},
<<<<<<< Updated upstream
   "outputs": [
    {
     "ename": "ImportError",
     "evalue": "cannot import name 'aling_phase' from 'meso_tools.image_tools' (c:\\users\\svc_mesoscope\\repos\\meso_tools\\meso_tools\\image_tools.py)",
     "output_type": "error",
     "traceback": [
      "\u001b[1;31m---------------------------------------------------------------------------\u001b[0m",
      "\u001b[1;31mImportError\u001b[0m                               Traceback (most recent call last)",
      "Input \u001b[1;32mIn [2]\u001b[0m, in \u001b[0;36m<cell line: 2>\u001b[1;34m()\u001b[0m\n\u001b[0;32m      1\u001b[0m \u001b[38;5;28;01mimport\u001b[39;00m \u001b[38;5;21;01mmatplotlib\u001b[39;00m\u001b[38;5;21;01m.\u001b[39;00m\u001b[38;5;21;01mpyplot\u001b[39;00m \u001b[38;5;28;01mas\u001b[39;00m \u001b[38;5;21;01mpl\u001b[39;00m\n\u001b[1;32m----> 2\u001b[0m \u001b[38;5;28;01mfrom\u001b[39;00m \u001b[38;5;21;01mmeso_tools\u001b[39;00m\u001b[38;5;21;01m.\u001b[39;00m\u001b[38;5;21;01mio_utils\u001b[39;00m \u001b[38;5;28;01mimport\u001b[39;00m read_si_metadata \u001b[38;5;28;01mas\u001b[39;00m get_meta\n\u001b[0;32m      3\u001b[0m \u001b[38;5;28;01mfrom\u001b[39;00m \u001b[38;5;21;01mmeso_tools\u001b[39;00m\u001b[38;5;21;01m.\u001b[39;00m\u001b[38;5;21;01mio_utils\u001b[39;00m \u001b[38;5;28;01mimport\u001b[39;00m read_tiff, write_tiff\n\u001b[0;32m      4\u001b[0m \u001b[38;5;28;01mfrom\u001b[39;00m \u001b[38;5;21;01mmeso_tools\u001b[39;00m\u001b[38;5;21;01m.\u001b[39;00m\u001b[38;5;21;01mstitch_full_field\u001b[39;00m \u001b[38;5;28;01mimport\u001b[39;00m \u001b[38;5;241m*\u001b[39m\n",
      "File \u001b[1;32mc:\\users\\svc_mesoscope\\repos\\meso_tools\\meso_tools\\__init__.py:12\u001b[0m, in \u001b[0;36m<module>\u001b[1;34m\u001b[0m\n\u001b[0;32m     10\u001b[0m \u001b[38;5;28;01mfrom\u001b[39;00m \u001b[38;5;21;01m.\u001b[39;00m image_tools \u001b[38;5;28;01mimport\u001b[39;00m \u001b[38;5;21;01mplot_all_colormaps\u001b[39;00m \u001b[38;5;28;01mas\u001b[39;00m \u001b[38;5;21;01mplot_all_colormaps\u001b[39;00m\n\u001b[0;32m     11\u001b[0m \u001b[38;5;28;01mfrom\u001b[39;00m \u001b[38;5;21;01m.\u001b[39;00m image_tools \u001b[38;5;28;01mimport\u001b[39;00m \u001b[38;5;21;01maverage_intensity\u001b[39;00m \u001b[38;5;28;01mas\u001b[39;00m \u001b[38;5;21;01maverage_intensity\u001b[39;00m\n\u001b[1;32m---> 12\u001b[0m \u001b[38;5;28;01mfrom\u001b[39;00m \u001b[38;5;21;01m.\u001b[39;00m image_tools \u001b[38;5;28;01mimport\u001b[39;00m \u001b[38;5;21;01maling_phase\u001b[39;00m \u001b[38;5;28;01mas\u001b[39;00m \u001b[38;5;21;01maling_phase\u001b[39;00m\n\u001b[0;32m     13\u001b[0m \u001b[38;5;28;01mfrom\u001b[39;00m \u001b[38;5;21;01m.\u001b[39;00m image_tools \u001b[38;5;28;01mimport\u001b[39;00m \u001b[38;5;21;01malign_phase_stack\u001b[39;00m \u001b[38;5;28;01mas\u001b[39;00m \u001b[38;5;21;01malign_phase_stack\u001b[39;00m\n\u001b[0;32m     14\u001b[0m \u001b[38;5;28;01mfrom\u001b[39;00m \u001b[38;5;21;01m.\u001b[39;00m image_tools \u001b[38;5;28;01mimport\u001b[39;00m \u001b[38;5;21;01maverage_n\u001b[39;00m \u001b[38;5;28;01mas\u001b[39;00m \u001b[38;5;21;01maverage_n\u001b[39;00m\n",
      "\u001b[1;31mImportError\u001b[0m: cannot import name 'aling_phase' from 'meso_tools.image_tools' (c:\\users\\svc_mesoscope\\repos\\meso_tools\\meso_tools\\image_tools.py)"
     ]
    }
   ],
=======
   "outputs": [],
>>>>>>> Stashed changes
   "source": [
    "import matplotlib.pyplot as pl\n",
    "from meso_tools.io_utils import read_si_metadata as get_meta\n",
    "from meso_tools.io_utils import read_tiff, write_tiff\n",
    "from meso_tools.stitch_full_field import *\n"
   ]
  },
  {
   "cell_type": "markdown",
   "metadata": {},
<<<<<<< Updated upstream
   "source": []
  },
  {
   "cell_type": "markdown",
   "metadata": {},
=======
>>>>>>> Stashed changes
   "source": [
    "### edit cell below to have correct session ID"
   ]
  },
  {
   "cell_type": "code",
<<<<<<< Updated upstream
   "execution_count": null,
=======
   "execution_count": 3,
>>>>>>> Stashed changes
   "metadata": {},
   "outputs": [],
   "source": [
    "\n",
<<<<<<< Updated upstream
    "session_id = 1190324963\n"
=======
    "session_id = 1194338889\n"
>>>>>>> Stashed changes
   ]
  },
  {
   "cell_type": "code",
<<<<<<< Updated upstream
   "execution_count": null,
   "metadata": {},
   "outputs": [],
=======
   "execution_count": 4,
   "metadata": {
    "scrolled": true
   },
   "outputs": [
    {
     "ename": "ValueError",
     "evalue": "not a ScanImage BigTIFF v3 or v4 file",
     "output_type": "error",
     "traceback": [
      "\u001b[1;31m---------------------------------------------------------------------------\u001b[0m",
      "\u001b[1;31mValueError\u001b[0m                                Traceback (most recent call last)",
      "File \u001b[1;32mc:\\mcpython3\\envs\\mroi_stitching\\lib\\site-packages\\tifffile\\tifffile.py:17025\u001b[0m, in \u001b[0;36mread_scanimage_metadata\u001b[1;34m(fh)\u001b[0m\n\u001b[0;32m  17024\u001b[0m \u001b[38;5;28;01mif\u001b[39;00m byteorder \u001b[38;5;241m!=\u001b[39m \u001b[38;5;124mb\u001b[39m\u001b[38;5;124m'\u001b[39m\u001b[38;5;124mII\u001b[39m\u001b[38;5;124m'\u001b[39m \u001b[38;5;129;01mor\u001b[39;00m version \u001b[38;5;241m!=\u001b[39m \u001b[38;5;241m43\u001b[39m:\n\u001b[1;32m> 17025\u001b[0m     \u001b[38;5;28;01mraise\u001b[39;00m \u001b[38;5;167;01mValueError\u001b[39;00m(\u001b[38;5;124m'\u001b[39m\u001b[38;5;124mnot a BigTIFF file\u001b[39m\u001b[38;5;124m'\u001b[39m)\n\u001b[0;32m  17026\u001b[0m fh\u001b[38;5;241m.\u001b[39mseek(\u001b[38;5;241m16\u001b[39m)\n",
      "\u001b[1;31mValueError\u001b[0m: not a BigTIFF file",
      "\nThe above exception was the direct cause of the following exception:\n",
      "\u001b[1;31mValueError\u001b[0m                                Traceback (most recent call last)",
      "Input \u001b[1;32mIn [4]\u001b[0m, in \u001b[0;36m<cell line: 6>\u001b[1;34m()\u001b[0m\n\u001b[0;32m      3\u001b[0m path_to_tiff \u001b[38;5;241m=\u001b[39m \u001b[38;5;124mf\u001b[39m\u001b[38;5;124m\"\u001b[39m\u001b[38;5;124mD:\u001b[39m\u001b[38;5;130;01m\\\\\u001b[39;00m\u001b[38;5;124mscanimage_ophys\u001b[39m\u001b[38;5;130;01m\\\\\u001b[39;00m\u001b[38;5;124mdata/\u001b[39m\u001b[38;5;132;01m{\u001b[39;00msession_id\u001b[38;5;132;01m}\u001b[39;00m\u001b[38;5;130;01m\\\\\u001b[39;00m\u001b[38;5;132;01m{\u001b[39;00msession_id\u001b[38;5;132;01m}\u001b[39;00m\u001b[38;5;124m_fullfield.tiff\u001b[39m\u001b[38;5;124m\"\u001b[39m\n\u001b[0;32m      4\u001b[0m tiff_array \u001b[38;5;241m=\u001b[39m read_tiff(path_to_tiff)\n\u001b[1;32m----> 6\u001b[0m meta \u001b[38;5;241m=\u001b[39m \u001b[43mget_meta\u001b[49m\u001b[43m(\u001b[49m\u001b[43mpath_to_tiff\u001b[49m\u001b[43m)\u001b[49m\n\u001b[0;32m      8\u001b[0m ff_meta_dict \u001b[38;5;241m=\u001b[39m read_full_field_meta(meta)\n\u001b[0;32m     10\u001b[0m ff_meta_dict \u001b[38;5;241m=\u001b[39m check_meta(ff_meta_dict)\n",
      "File \u001b[1;32mc:\\users\\svc_mesoscope\\repos\\meso_tools\\meso_tools\\io_utils.py:62\u001b[0m, in \u001b[0;36mread_si_metadata\u001b[1;34m(path_to_tiff)\u001b[0m\n\u001b[0;32m     56\u001b[0m \u001b[38;5;28;01mdef\u001b[39;00m \u001b[38;5;21mread_si_metadata\u001b[39m(path_to_tiff):\n\u001b[0;32m     57\u001b[0m     \u001b[38;5;124;03m\"\"\"\u001b[39;00m\n\u001b[0;32m     58\u001b[0m \u001b[38;5;124;03m    function to read scnaimage metadata in full\u001b[39;00m\n\u001b[0;32m     59\u001b[0m \u001b[38;5;124;03m    path: path to tiff file\u001b[39;00m\n\u001b[0;32m     60\u001b[0m \u001b[38;5;124;03m    returns: dict w metadata\u001b[39;00m\n\u001b[0;32m     61\u001b[0m \u001b[38;5;124;03m    \"\"\"\u001b[39;00m\n\u001b[1;32m---> 62\u001b[0m     meta_data \u001b[38;5;241m=\u001b[39m \u001b[43mtifffile\u001b[49m\u001b[38;5;241;43m.\u001b[39;49m\u001b[43mread_scanimage_metadata\u001b[49m\u001b[43m(\u001b[49m\u001b[38;5;28;43mopen\u001b[39;49m\u001b[43m(\u001b[49m\u001b[43mpath_to_tiff\u001b[49m\u001b[43m,\u001b[49m\u001b[43m \u001b[49m\u001b[38;5;124;43m'\u001b[39;49m\u001b[38;5;124;43mrb\u001b[39;49m\u001b[38;5;124;43m'\u001b[39;49m\u001b[43m)\u001b[49m\u001b[43m)\u001b[49m\n\u001b[0;32m     63\u001b[0m     \u001b[38;5;28;01mreturn\u001b[39;00m meta_data\n",
      "File \u001b[1;32mc:\\mcpython3\\envs\\mroi_stitching\\lib\\site-packages\\tifffile\\tifffile.py:17035\u001b[0m, in \u001b[0;36mread_scanimage_metadata\u001b[1;34m(fh)\u001b[0m\n\u001b[0;32m  17033\u001b[0m     \u001b[38;5;28;01mraise\u001b[39;00m \u001b[38;5;167;01mValueError\u001b[39;00m(\u001b[38;5;124m'\u001b[39m\u001b[38;5;124mfile must be opened in binary mode\u001b[39m\u001b[38;5;124m'\u001b[39m) \u001b[38;5;28;01mfrom\u001b[39;00m \u001b[38;5;21;01mexc\u001b[39;00m\n\u001b[0;32m  17034\u001b[0m \u001b[38;5;28;01mexcept\u001b[39;00m \u001b[38;5;167;01mException\u001b[39;00m \u001b[38;5;28;01mas\u001b[39;00m exc:\n\u001b[1;32m> 17035\u001b[0m     \u001b[38;5;28;01mraise\u001b[39;00m \u001b[38;5;167;01mValueError\u001b[39;00m(\u001b[38;5;124m'\u001b[39m\u001b[38;5;124mnot a ScanImage BigTIFF v3 or v4 file\u001b[39m\u001b[38;5;124m'\u001b[39m) \u001b[38;5;28;01mfrom\u001b[39;00m \u001b[38;5;21;01mexc\u001b[39;00m\n\u001b[0;32m  17037\u001b[0m frame_data \u001b[38;5;241m=\u001b[39m matlabstr2py(bytes2str(fh\u001b[38;5;241m.\u001b[39mread(size0)[:\u001b[38;5;241m-\u001b[39m\u001b[38;5;241m1\u001b[39m]))\n\u001b[0;32m  17038\u001b[0m roi_data \u001b[38;5;241m=\u001b[39m read_json(fh, \u001b[38;5;124m'\u001b[39m\u001b[38;5;124m<\u001b[39m\u001b[38;5;124m'\u001b[39m, \u001b[38;5;241m0\u001b[39m, size1, \u001b[38;5;241m0\u001b[39m) \u001b[38;5;28;01mif\u001b[39;00m size1 \u001b[38;5;241m>\u001b[39m \u001b[38;5;241m1\u001b[39m \u001b[38;5;28;01melse\u001b[39;00m {}\n",
      "\u001b[1;31mValueError\u001b[0m: not a ScanImage BigTIFF v3 or v4 file"
     ]
    }
   ],
>>>>>>> Stashed changes
   "source": [
    "\n",
    "GAP = 24\n",
    "\n",
<<<<<<< Updated upstream
    "path_to_tiff = f\"E:\\\\scanimage_ophys\\\\data/{session_id}\\\\{session_id}_fullfield.tiff\"\n",
=======
    "path_to_tiff = f\"D:\\\\scanimage_ophys\\\\data/{session_id}\\\\{session_id}_fullfield.tiff\"\n",
>>>>>>> Stashed changes
    "tiff_array = read_tiff(path_to_tiff)\n",
    "\n",
    "meta = get_meta(path_to_tiff)\n",
    "\n",
    "ff_meta_dict = read_full_field_meta(meta)\n",
    "\n",
    "ff_meta_dict = check_meta(ff_meta_dict)\n",
    "\n",
    "check_tiff(tiff_array, ff_meta_dict)\n",
    "\n",
    "output_tiff_shape = check_tiff(tiff_array, ff_meta_dict)\n",
    "\n",
    "ff_averaged_tiff = average_tiff(tiff_array, ff_meta_dict)\n",
    "\n",
    "ff_stitched_tiff, ff_meta_dict = stitch_tiff(ff_averaged_tiff, ff_meta_dict, output_tiff_shape)\n",
    "\n",
    "surface_path = f\"E:\\\\scanimage_ophys\\\\data\\\\{session_id}\\\\{session_id}_averaged_surface.tiff\"\n",
    "\n",
    "split_surface_meta, surface_averaged = split_surface(surface_path)\n",
    "\n",
    "ff_stitched_w_surface = insert_surface_to_ff(ff_stitched_tiff, ff_meta_dict, split_surface_meta)\n",
    "\n",
    "write_tiff(path_to_tiff, ff_stitched_w_surface)\n",
    "\n",
    "pl.figure(figsize =[10,10])\n",
    "pl.imshow(ff_stitched_w_surface)"
   ]
<<<<<<< Updated upstream
=======
  },
  {
   "cell_type": "code",
   "execution_count": null,
   "metadata": {},
   "outputs": [],
   "source": []
>>>>>>> Stashed changes
  }
 ],
 "metadata": {
  "kernelspec": {
   "display_name": "Python 3 (ipykernel)",
   "language": "python",
   "name": "python3"
  },
  "language_info": {
   "codemirror_mode": {
    "name": "ipython",
    "version": 3
   },
   "file_extension": ".py",
   "mimetype": "text/x-python",
   "name": "python",
   "nbconvert_exporter": "python",
   "pygments_lexer": "ipython3",
   "version": "3.8.5"
  }
 },
 "nbformat": 4,
 "nbformat_minor": 2
}
