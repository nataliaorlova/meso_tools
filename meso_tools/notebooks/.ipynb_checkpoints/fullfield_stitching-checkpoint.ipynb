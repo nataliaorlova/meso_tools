{
 "cells": [
  {
   "cell_type": "code",
   "execution_count": 1,
   "metadata": {},
   "outputs": [
    {
     "name": "stderr",
     "output_type": "stream",
     "text": [
      "C:\\Users\\svc_mesoscope\\AppData\\Local\\Temp\\ipykernel_8244\\3391910190.py:1: DeprecationWarning: Importing display from IPython.core.display is deprecated since IPython 7.14, please import from IPython display\n",
      "  from IPython.core.display import display, HTML\n"
     ]
    },
    {
     "data": {
      "text/html": [
       "<style>.container { width:100% !important; }</style>"
      ],
      "text/plain": [
       "<IPython.core.display.HTML object>"
      ]
     },
     "metadata": {},
     "output_type": "display_data"
    }
   ],
   "source": [
    "from IPython.core.display import display, HTML\n",
    "display(HTML(\"<style>.container { width:100% !important; }</style>\"))\n"
   ]
  },
  {
   "cell_type": "code",
   "execution_count": 2,
   "metadata": {},
   "outputs": [
    {
     "ename": "ImportError",
     "evalue": "cannot import name 'aling_phase' from 'meso_tools.image_tools' (c:\\users\\svc_mesoscope\\repos\\meso_tools\\meso_tools\\image_tools.py)",
     "output_type": "error",
     "traceback": [
      "\u001b[1;31m---------------------------------------------------------------------------\u001b[0m",
      "\u001b[1;31mImportError\u001b[0m                               Traceback (most recent call last)",
      "Input \u001b[1;32mIn [2]\u001b[0m, in \u001b[0;36m<cell line: 2>\u001b[1;34m()\u001b[0m\n\u001b[0;32m      1\u001b[0m \u001b[38;5;28;01mimport\u001b[39;00m \u001b[38;5;21;01mmatplotlib\u001b[39;00m\u001b[38;5;21;01m.\u001b[39;00m\u001b[38;5;21;01mpyplot\u001b[39;00m \u001b[38;5;28;01mas\u001b[39;00m \u001b[38;5;21;01mpl\u001b[39;00m\n\u001b[1;32m----> 2\u001b[0m \u001b[38;5;28;01mfrom\u001b[39;00m \u001b[38;5;21;01mmeso_tools\u001b[39;00m\u001b[38;5;21;01m.\u001b[39;00m\u001b[38;5;21;01mio_utils\u001b[39;00m \u001b[38;5;28;01mimport\u001b[39;00m read_si_metadata \u001b[38;5;28;01mas\u001b[39;00m get_meta\n\u001b[0;32m      3\u001b[0m \u001b[38;5;28;01mfrom\u001b[39;00m \u001b[38;5;21;01mmeso_tools\u001b[39;00m\u001b[38;5;21;01m.\u001b[39;00m\u001b[38;5;21;01mio_utils\u001b[39;00m \u001b[38;5;28;01mimport\u001b[39;00m read_tiff, write_tiff\n\u001b[0;32m      4\u001b[0m \u001b[38;5;28;01mfrom\u001b[39;00m \u001b[38;5;21;01mmeso_tools\u001b[39;00m\u001b[38;5;21;01m.\u001b[39;00m\u001b[38;5;21;01mstitch_full_field\u001b[39;00m \u001b[38;5;28;01mimport\u001b[39;00m \u001b[38;5;241m*\u001b[39m\n",
      "File \u001b[1;32mc:\\users\\svc_mesoscope\\repos\\meso_tools\\meso_tools\\__init__.py:12\u001b[0m, in \u001b[0;36m<module>\u001b[1;34m\u001b[0m\n\u001b[0;32m     10\u001b[0m \u001b[38;5;28;01mfrom\u001b[39;00m \u001b[38;5;21;01m.\u001b[39;00m image_tools \u001b[38;5;28;01mimport\u001b[39;00m \u001b[38;5;21;01mplot_all_colormaps\u001b[39;00m \u001b[38;5;28;01mas\u001b[39;00m \u001b[38;5;21;01mplot_all_colormaps\u001b[39;00m\n\u001b[0;32m     11\u001b[0m \u001b[38;5;28;01mfrom\u001b[39;00m \u001b[38;5;21;01m.\u001b[39;00m image_tools \u001b[38;5;28;01mimport\u001b[39;00m \u001b[38;5;21;01maverage_intensity\u001b[39;00m \u001b[38;5;28;01mas\u001b[39;00m \u001b[38;5;21;01maverage_intensity\u001b[39;00m\n\u001b[1;32m---> 12\u001b[0m \u001b[38;5;28;01mfrom\u001b[39;00m \u001b[38;5;21;01m.\u001b[39;00m image_tools \u001b[38;5;28;01mimport\u001b[39;00m \u001b[38;5;21;01maling_phase\u001b[39;00m \u001b[38;5;28;01mas\u001b[39;00m \u001b[38;5;21;01maling_phase\u001b[39;00m\n\u001b[0;32m     13\u001b[0m \u001b[38;5;28;01mfrom\u001b[39;00m \u001b[38;5;21;01m.\u001b[39;00m image_tools \u001b[38;5;28;01mimport\u001b[39;00m \u001b[38;5;21;01malign_phase_stack\u001b[39;00m \u001b[38;5;28;01mas\u001b[39;00m \u001b[38;5;21;01malign_phase_stack\u001b[39;00m\n\u001b[0;32m     14\u001b[0m \u001b[38;5;28;01mfrom\u001b[39;00m \u001b[38;5;21;01m.\u001b[39;00m image_tools \u001b[38;5;28;01mimport\u001b[39;00m \u001b[38;5;21;01maverage_n\u001b[39;00m \u001b[38;5;28;01mas\u001b[39;00m \u001b[38;5;21;01maverage_n\u001b[39;00m\n",
      "\u001b[1;31mImportError\u001b[0m: cannot import name 'aling_phase' from 'meso_tools.image_tools' (c:\\users\\svc_mesoscope\\repos\\meso_tools\\meso_tools\\image_tools.py)"
     ]
    }
   ],
   "source": [
    "import matplotlib.pyplot as pl\n",
    "from meso_tools.io_utils import read_si_metadata as get_meta\n",
    "from meso_tools.io_utils import read_tiff, write_tiff\n",
    "from meso_tools.stitch_full_field import *\n"
   ]
  },
  {
   "cell_type": "markdown",
   "metadata": {},
   "source": []
  },
  {
   "cell_type": "markdown",
   "metadata": {},
   "source": [
    "### edit cell below to have correct session ID"
   ]
  },
  {
   "cell_type": "code",
   "execution_count": null,
   "metadata": {},
   "outputs": [],
   "source": [
    "\n",
    "session_id = 1190324963\n"
   ]
  },
  {
   "cell_type": "code",
   "execution_count": null,
   "metadata": {},
   "outputs": [],
   "source": [
    "\n",
    "GAP = 24\n",
    "\n",
    "path_to_tiff = f\"E:\\\\scanimage_ophys\\\\data/{session_id}\\\\{session_id}_fullfield.tiff\"\n",
    "tiff_array = read_tiff(path_to_tiff)\n",
    "\n",
    "meta = get_meta(path_to_tiff)\n",
    "\n",
    "ff_meta_dict = read_full_field_meta(meta)\n",
    "\n",
    "ff_meta_dict = check_meta(ff_meta_dict)\n",
    "\n",
    "check_tiff(tiff_array, ff_meta_dict)\n",
    "\n",
    "output_tiff_shape = check_tiff(tiff_array, ff_meta_dict)\n",
    "\n",
    "ff_averaged_tiff = average_tiff(tiff_array, ff_meta_dict)\n",
    "\n",
    "ff_stitched_tiff, ff_meta_dict = stitch_tiff(ff_averaged_tiff, ff_meta_dict, output_tiff_shape)\n",
    "\n",
    "surface_path = f\"E:\\\\scanimage_ophys\\\\data\\\\{session_id}\\\\{session_id}_averaged_surface.tiff\"\n",
    "\n",
    "split_surface_meta, surface_averaged = split_surface(surface_path)\n",
    "\n",
    "ff_stitched_w_surface = insert_surface_to_ff(ff_stitched_tiff, ff_meta_dict, split_surface_meta)\n",
    "\n",
    "write_tiff(path_to_tiff, ff_stitched_w_surface)\n",
    "\n",
    "pl.figure(figsize =[10,10])\n",
    "pl.imshow(ff_stitched_w_surface)"
   ]
  }
 ],
 "metadata": {
  "kernelspec": {
   "display_name": "Python 3 (ipykernel)",
   "language": "python",
   "name": "python3"
  },
  "language_info": {
   "codemirror_mode": {
    "name": "ipython",
    "version": 3
   },
   "file_extension": ".py",
   "mimetype": "text/x-python",
   "name": "python",
   "nbconvert_exporter": "python",
   "pygments_lexer": "ipython3",
   "version": "3.8.5"
  }
 },
 "nbformat": 4,
 "nbformat_minor": 2
}
