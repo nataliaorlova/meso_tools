{
 "cells": [
  {
   "cell_type": "markdown",
   "metadata": {},
   "source": [
    "## In this notebook we will generate data and plot to QC the stacks\n",
    "### 1. Load data for 4-ROI stack from disk\n",
    "### 2. Load 2-ROI stacks and ... \n",
    "####       a) generate 100 frame average array\n",
    "####       b) write averaged stacks to disk for preview\n",
    "####       c) calculate mean and variance of each averaged plane for entire stack\n",
    "### 3. Plot mean and variance of the new stack vs 4 ROI stack"
   ]
  },
  {
   "cell_type": "code",
   "execution_count": 9,
   "metadata": {},
   "outputs": [],
   "source": [
    "import meso_tools as mt\n",
    "import os\n",
    "import numpy as np\n",
    "import matplotlib.pyplot as pl\n",
    "import tifffile\n",
    "import sciris as sc\n"
   ]
  },
  {
   "cell_type": "markdown",
   "metadata": {},
   "source": [
    "\n",
    "### 1. Load data for 4 ROI stack - TBD\n"
   ]
  },
  {
   "cell_type": "code",
   "execution_count": 10,
   "metadata": {},
   "outputs": [],
   "source": [
    "path = \"E:\\\\dev_data\\\\OS_dendrites_stacks_pilots\\\\4roi_comparison_data\\\\4_roi_data.dict\"\n",
    "four_roi_data = sc.loadobj(path)"
   ]
  },
  {
   "cell_type": "markdown",
   "metadata": {},
   "source": [
    "\n",
    "### 2. Load 2-ROI stacks\n"
   ]
  },
  {
   "cell_type": "markdown",
   "metadata": {},
   "source": [
    "\n",
    "##### modify cell below to have correct path to the folder with 2 ROI stacks and corect names in teh roi_names list: in sequence they were acquire din stacks\n"
   ]
  },
  {
   "cell_type": "code",
   "execution_count": 11,
   "metadata": {},
   "outputs": [],
   "source": [
    "folder_with_2ROI_stacks = \"E:\\\\dev_data\\\\OS_dendrites_stacks_pilots\\\\621602\"\n",
    "surface_soma_stack1_path = \"E:\\\\dev_data\\\\OS_dendrites_stacks_pilots\\\\621602\\\\621602_V1_LM_surface_soma_00001.tif\"\n",
    "surface_soma_stack2_path = \"\"\n",
    "roi_names_2rois = ['V1', 'LM', 'AM', 'PM']"
   ]
  },
  {
   "cell_type": "code",
   "execution_count": 4,
   "metadata": {},
   "outputs": [],
   "source": [
    "roi_names_4roi = ['V1', 'LM', 'AM', 'PM']\n",
    "stacks = [surface_soma_stack1_path, surface_soma_stack2_path]\n",
    "means = []\n",
    "variances = []\n",
    "rois=[]"
   ]
  },
  {
   "cell_type": "code",
   "execution_count": 5,
   "metadata": {},
   "outputs": [
    {
     "name": "stdout",
     "output_type": "stream",
     "text": [
      "Stack will be processed in 490 chunks\n",
      "Loading 0th chunk, frames 0 to 100\n",
      "Loading 1th chunk, frames 100 to 200\n",
      "Loading 2th chunk, frames 200 to 300\n",
      "Loading 3th chunk, frames 300 to 400\n",
      "Loading 4th chunk, frames 400 to 500\n",
      "Loading 5th chunk, frames 500 to 600\n",
      "Loading 6th chunk, frames 600 to 700\n",
      "Loading 7th chunk, frames 700 to 800\n",
      "Loading 8th chunk, frames 800 to 900\n",
      "Loading 9th chunk, frames 900 to 1000\n",
      "Loading 10th chunk, frames 1000 to 1100\n",
      "Loading 11th chunk, frames 1100 to 1200\n",
      "Loading 12th chunk, frames 1200 to 1300\n",
      "Loading 13th chunk, frames 1300 to 1400\n",
      "Loading 14th chunk, frames 1400 to 1500\n",
      "Loading 15th chunk, frames 1500 to 1600\n",
      "Loading 16th chunk, frames 1600 to 1700\n",
      "Loading 17th chunk, frames 1700 to 1800\n",
      "Loading 18th chunk, frames 1800 to 1900\n",
      "Loading 19th chunk, frames 1900 to 2000\n",
      "Loading 20th chunk, frames 2000 to 2100\n",
      "Loading 21th chunk, frames 2100 to 2200\n",
      "Loading 22th chunk, frames 2200 to 2300\n",
      "Loading 23th chunk, frames 2300 to 2400\n",
      "Loading 24th chunk, frames 2400 to 2500\n",
      "Loading 25th chunk, frames 2500 to 2600\n",
      "Loading 26th chunk, frames 2600 to 2700\n",
      "Loading 27th chunk, frames 2700 to 2800\n",
      "Loading 28th chunk, frames 2800 to 2900\n",
      "Loading 29th chunk, frames 2900 to 3000\n",
      "Loading 30th chunk, frames 3000 to 3100\n",
      "Loading 31th chunk, frames 3100 to 3200\n",
      "Loading 32th chunk, frames 3200 to 3300\n",
      "Loading 33th chunk, frames 3300 to 3400\n",
      "Loading 34th chunk, frames 3400 to 3500\n",
      "Loading 35th chunk, frames 3500 to 3600\n",
      "Loading 36th chunk, frames 3600 to 3700\n",
      "Loading 37th chunk, frames 3700 to 3800\n",
      "Loading 38th chunk, frames 3800 to 3900\n",
      "Loading 39th chunk, frames 3900 to 4000\n",
      "Loading 40th chunk, frames 4000 to 4100\n",
      "Loading 41th chunk, frames 4100 to 4200\n",
      "Loading 42th chunk, frames 4200 to 4300\n",
      "Loading 43th chunk, frames 4300 to 4400\n",
      "Loading 44th chunk, frames 4400 to 4500\n",
      "Loading 45th chunk, frames 4500 to 4600\n",
      "Loading 46th chunk, frames 4600 to 4700\n",
      "Loading 47th chunk, frames 4700 to 4800\n",
      "Loading 48th chunk, frames 4800 to 4900\n",
      "Loading 49th chunk, frames 4900 to 5000\n",
      "Loading 50th chunk, frames 5000 to 5100\n",
      "Loading 51th chunk, frames 5100 to 5200\n",
      "Loading 52th chunk, frames 5200 to 5300\n",
      "Loading 53th chunk, frames 5300 to 5400\n",
      "Loading 54th chunk, frames 5400 to 5500\n",
      "Loading 55th chunk, frames 5500 to 5600\n",
      "Loading 56th chunk, frames 5600 to 5700\n",
      "Loading 57th chunk, frames 5700 to 5800\n",
      "Loading 58th chunk, frames 5800 to 5900\n",
      "Loading 59th chunk, frames 5900 to 6000\n",
      "Loading 60th chunk, frames 6000 to 6100\n",
      "Loading 61th chunk, frames 6100 to 6200\n",
      "Loading 62th chunk, frames 6200 to 6300\n",
      "Loading 63th chunk, frames 6300 to 6400\n",
      "Loading 64th chunk, frames 6400 to 6500\n",
      "Loading 65th chunk, frames 6500 to 6600\n",
      "Loading 66th chunk, frames 6600 to 6700\n",
      "Loading 67th chunk, frames 6700 to 6800\n",
      "Loading 68th chunk, frames 6800 to 6900\n",
      "Loading 69th chunk, frames 6900 to 7000\n",
      "Loading 70th chunk, frames 7000 to 7100\n",
      "Loading 71th chunk, frames 7100 to 7200\n",
      "Loading 72th chunk, frames 7200 to 7300\n",
      "Loading 73th chunk, frames 7300 to 7400\n",
      "Loading 74th chunk, frames 7400 to 7500\n",
      "Loading 75th chunk, frames 7500 to 7600\n",
      "Loading 76th chunk, frames 7600 to 7700\n",
      "Loading 77th chunk, frames 7700 to 7800\n",
      "Loading 78th chunk, frames 7800 to 7900\n",
      "Loading 79th chunk, frames 7900 to 8000\n",
      "Loading 80th chunk, frames 8000 to 8100\n",
      "Loading 81th chunk, frames 8100 to 8200\n",
      "Loading 82th chunk, frames 8200 to 8300\n",
      "Loading 83th chunk, frames 8300 to 8400\n",
      "Loading 84th chunk, frames 8400 to 8500\n",
      "Loading 85th chunk, frames 8500 to 8600\n",
      "Loading 86th chunk, frames 8600 to 8700\n",
      "Loading 87th chunk, frames 8700 to 8800\n",
      "Loading 88th chunk, frames 8800 to 8900\n",
      "Loading 89th chunk, frames 8900 to 9000\n",
      "Loading 90th chunk, frames 9000 to 9100\n",
      "Loading 91th chunk, frames 9100 to 9200\n",
      "Loading 92th chunk, frames 9200 to 9300\n",
      "Loading 93th chunk, frames 9300 to 9400\n",
      "Loading 94th chunk, frames 9400 to 9500\n",
      "Loading 95th chunk, frames 9500 to 9600\n",
      "Loading 96th chunk, frames 9600 to 9700\n",
      "Loading 97th chunk, frames 9700 to 9800\n",
      "Loading 98th chunk, frames 9800 to 9900\n",
      "Loading 99th chunk, frames 9900 to 10000\n",
      "Loading 100th chunk, frames 10000 to 10100\n",
      "Loading 101th chunk, frames 10100 to 10200\n",
      "Loading 102th chunk, frames 10200 to 10300\n",
      "Loading 103th chunk, frames 10300 to 10400\n",
      "Loading 104th chunk, frames 10400 to 10500\n",
      "Loading 105th chunk, frames 10500 to 10600\n",
      "Loading 106th chunk, frames 10600 to 10700\n",
      "Loading 107th chunk, frames 10700 to 10800\n",
      "Loading 108th chunk, frames 10800 to 10900\n",
      "Loading 109th chunk, frames 10900 to 11000\n",
      "Loading 110th chunk, frames 11000 to 11100\n",
      "Loading 111th chunk, frames 11100 to 11200\n",
      "Loading 112th chunk, frames 11200 to 11300\n",
      "Loading 113th chunk, frames 11300 to 11400\n",
      "Loading 114th chunk, frames 11400 to 11500\n",
      "Loading 115th chunk, frames 11500 to 11600\n",
      "Loading 116th chunk, frames 11600 to 11700\n",
      "Loading 117th chunk, frames 11700 to 11800\n",
      "Loading 118th chunk, frames 11800 to 11900\n",
      "Loading 119th chunk, frames 11900 to 12000\n",
      "Loading 120th chunk, frames 12000 to 12100\n",
      "Loading 121th chunk, frames 12100 to 12200\n"
     ]
    },
    {
     "ename": "KeyboardInterrupt",
     "evalue": "",
     "output_type": "error",
     "traceback": [
      "\u001b[1;31m---------------------------------------------------------------------------\u001b[0m",
      "\u001b[1;31mKeyboardInterrupt\u001b[0m                         Traceback (most recent call last)",
      "Input \u001b[1;32mIn [5]\u001b[0m, in \u001b[0;36m<cell line: 1>\u001b[1;34m()\u001b[0m\n\u001b[0;32m     40\u001b[0m \u001b[38;5;66;03m# split and average 4 rois - single planes\u001b[39;00m\n\u001b[0;32m     41\u001b[0m roi1[i,:,:] \u001b[38;5;241m=\u001b[39m tiff_array[:,:image_dim,:]\u001b[38;5;241m.\u001b[39mmean(axis\u001b[38;5;241m=\u001b[39m\u001b[38;5;241m0\u001b[39m)\n\u001b[1;32m---> 42\u001b[0m roi2[i,:,:] \u001b[38;5;241m=\u001b[39m \u001b[43mtiff_array\u001b[49m\u001b[43m[\u001b[49m\u001b[43m:\u001b[49m\u001b[43m,\u001b[49m\u001b[43mimage_dim\u001b[49m\u001b[38;5;241;43m+\u001b[39;49m\u001b[43mspacer\u001b[49m\u001b[43m:\u001b[49m\u001b[38;5;241;43m2\u001b[39;49m\u001b[38;5;241;43m*\u001b[39;49m\u001b[43mimage_dim\u001b[49m\u001b[38;5;241;43m+\u001b[39;49m\u001b[43mspacer\u001b[49m\u001b[43m,\u001b[49m\u001b[43m:\u001b[49m\u001b[43m]\u001b[49m\u001b[38;5;241;43m.\u001b[39;49m\u001b[43mmean\u001b[49m\u001b[43m(\u001b[49m\u001b[43maxis\u001b[49m\u001b[38;5;241;43m=\u001b[39;49m\u001b[38;5;241;43m0\u001b[39;49m\u001b[43m)\u001b[49m\n\u001b[0;32m     45\u001b[0m mean1[i] \u001b[38;5;241m=\u001b[39m np\u001b[38;5;241m.\u001b[39mmean(roi1[i,:,:],axis\u001b[38;5;241m=\u001b[39m(\u001b[38;5;241m0\u001b[39m,\u001b[38;5;241m1\u001b[39m))\n\u001b[0;32m     46\u001b[0m mean2[i] \u001b[38;5;241m=\u001b[39m np\u001b[38;5;241m.\u001b[39mmean(roi2[i,:,:],axis\u001b[38;5;241m=\u001b[39m(\u001b[38;5;241m0\u001b[39m,\u001b[38;5;241m1\u001b[39m))\n",
      "File \u001b[1;32mc:\\mcpython3\\envs\\mroi_stitching\\lib\\site-packages\\numpy\\core\\_methods.py:179\u001b[0m, in \u001b[0;36m_mean\u001b[1;34m(a, axis, dtype, out, keepdims, where)\u001b[0m\n\u001b[0;32m    176\u001b[0m         dtype \u001b[38;5;241m=\u001b[39m mu\u001b[38;5;241m.\u001b[39mdtype(\u001b[38;5;124m'\u001b[39m\u001b[38;5;124mf4\u001b[39m\u001b[38;5;124m'\u001b[39m)\n\u001b[0;32m    177\u001b[0m         is_float16_result \u001b[38;5;241m=\u001b[39m \u001b[38;5;28;01mTrue\u001b[39;00m\n\u001b[1;32m--> 179\u001b[0m ret \u001b[38;5;241m=\u001b[39m \u001b[43mumr_sum\u001b[49m\u001b[43m(\u001b[49m\u001b[43marr\u001b[49m\u001b[43m,\u001b[49m\u001b[43m \u001b[49m\u001b[43maxis\u001b[49m\u001b[43m,\u001b[49m\u001b[43m \u001b[49m\u001b[43mdtype\u001b[49m\u001b[43m,\u001b[49m\u001b[43m \u001b[49m\u001b[43mout\u001b[49m\u001b[43m,\u001b[49m\u001b[43m \u001b[49m\u001b[43mkeepdims\u001b[49m\u001b[43m,\u001b[49m\u001b[43m \u001b[49m\u001b[43mwhere\u001b[49m\u001b[38;5;241;43m=\u001b[39;49m\u001b[43mwhere\u001b[49m\u001b[43m)\u001b[49m\n\u001b[0;32m    180\u001b[0m \u001b[38;5;28;01mif\u001b[39;00m \u001b[38;5;28misinstance\u001b[39m(ret, mu\u001b[38;5;241m.\u001b[39mndarray):\n\u001b[0;32m    181\u001b[0m     ret \u001b[38;5;241m=\u001b[39m um\u001b[38;5;241m.\u001b[39mtrue_divide(\n\u001b[0;32m    182\u001b[0m             ret, rcount, out\u001b[38;5;241m=\u001b[39mret, casting\u001b[38;5;241m=\u001b[39m\u001b[38;5;124m'\u001b[39m\u001b[38;5;124munsafe\u001b[39m\u001b[38;5;124m'\u001b[39m, subok\u001b[38;5;241m=\u001b[39m\u001b[38;5;28;01mFalse\u001b[39;00m)\n",
      "\u001b[1;31mKeyboardInterrupt\u001b[0m: "
     ]
    }
   ],
   "source": [
    "for stack in stacks:\n",
    "\n",
    "    tiff=tifffile.TiffFile(stack, mode='rb')\n",
    "    num_frames = len(tiff.pages)\n",
    "    #stack parameters\n",
    "    ROIs = 2\n",
    "    image_dim = 768\n",
    "    spacer = 24\n",
    "    chunk_size = 100\n",
    "    chunk_num = int(np.ceil(num_frames / chunk_size))\n",
    "    print(f\"Stack will be processed in {chunk_num} chunks\")\n",
    "\n",
    "    # Initiallize arrays for averaged stacks, mean and variance outputs\n",
    "    roi1 = np.zeros((int(num_frames/chunk_size), image_dim , image_dim))\n",
    "    roi2 = np.zeros((int(num_frames/chunk_size), image_dim , image_dim))\n",
    "\n",
    "    mean1 = np.zeros((int(num_frames/chunk_size)))\n",
    "    mean2 = np.zeros((int(num_frames/chunk_size)))\n",
    "\n",
    "    var1 = np.zeros((int(num_frames/chunk_size)))\n",
    "    var2 = np.zeros((int(num_frames/chunk_size)))\n",
    "\n",
    "\n",
    "    # loop over chunks to generate averaged stack and calculate mean and variance\n",
    "\n",
    "    for i in range(chunk_num):\n",
    "\n",
    "        # load chunk of tiff:\n",
    "        frame_start = chunk_size*i\n",
    "        frame_end = chunk_size*(i+1)\n",
    "\n",
    "        # handling of the last chunk \n",
    "        if frame_end > num_frames:\n",
    "            frame_end = num_frames\n",
    "        print(f'Loading {i}th chunk, frames {frame_start} to {frame_end}')\n",
    "        tiff_array = tiff.asarray(range(frame_start,frame_end))\n",
    "\n",
    "        num_frames_chunk = tiff_array.shape[0]\n",
    "\n",
    "        # split and average 4 rois - single planes\n",
    "        , roi1[i,:,:] = mt.align_phase(tiff_array[:,:image_dim,:].mean(axis=0))\n",
    "        , roi2[i,:,:] = mt.align_phase(tiff_array[:,image_dim+spacer:2*image_dim+spacer,:].mean(axis=0))\n",
    "\n",
    "\n",
    "        mean1[i] = np.mean(roi1[i,:,:],axis=(0,1))\n",
    "        mean2[i] = np.mean(roi2[i,:,:],axis=(0,1))\n",
    "        var1[i] = np.var(roi1[i,:,:])\n",
    "        var2[i] = np.var(roi2[i,:,:])        \n",
    "\n",
    "    tiff.close()\n",
    "\n",
    "    means.append(mean1)\n",
    "    means.append(mean2)\n",
    "    variances.append(var1)\n",
    "    variances.append(var2)\n",
    "    rois.append(roi1)\n",
    "    rois.append(roi2)"
   ]
  },
  {
   "cell_type": "code",
   "execution_count": 8,
   "metadata": {},
   "outputs": [
    {
     "ename": "IndexError",
     "evalue": "list index out of range",
     "output_type": "error",
     "traceback": [
      "\u001b[1;31m---------------------------------------------------------------------------\u001b[0m",
      "\u001b[1;31mIndexError\u001b[0m                                Traceback (most recent call last)",
      "Input \u001b[1;32mIn [8]\u001b[0m, in \u001b[0;36m<cell line: 2>\u001b[1;34m()\u001b[0m\n\u001b[0;32m      2\u001b[0m \u001b[38;5;28;01mfor\u001b[39;00m i, roi_name \u001b[38;5;129;01min\u001b[39;00m \u001b[38;5;28menumerate\u001b[39m(roi_names):\n\u001b[0;32m      3\u001b[0m     roi_path \u001b[38;5;241m=\u001b[39m os\u001b[38;5;241m.\u001b[39mpath\u001b[38;5;241m.\u001b[39mjoin(folder_with_2ROI_stacks, \u001b[38;5;124mf\u001b[39m\u001b[38;5;124m\"\u001b[39m\u001b[38;5;132;01m{\u001b[39;00mroi_name\u001b[38;5;132;01m}\u001b[39;00m\u001b[38;5;124m_avg.tiff\u001b[39m\u001b[38;5;124m\"\u001b[39m)\n\u001b[1;32m----> 4\u001b[0m     mt\u001b[38;5;241m.\u001b[39mwrite_tiff(roi_path, \u001b[43mrois\u001b[49m\u001b[43m[\u001b[49m\u001b[43mi\u001b[49m\u001b[43m]\u001b[49m\u001b[38;5;241m.\u001b[39mastype(np\u001b[38;5;241m.\u001b[39mint16))\n\u001b[0;32m      6\u001b[0m     mean_path \u001b[38;5;241m=\u001b[39m os\u001b[38;5;241m.\u001b[39mpath\u001b[38;5;241m.\u001b[39mjoin(folder_with_2ROI_stacks, \u001b[38;5;124mf\u001b[39m\u001b[38;5;124m\"\u001b[39m\u001b[38;5;132;01m{\u001b[39;00mroi_name\u001b[38;5;132;01m}\u001b[39;00m\u001b[38;5;124m_mean.dict\u001b[39m\u001b[38;5;124m\"\u001b[39m)\n\u001b[0;32m      7\u001b[0m     sc\u001b[38;5;241m.\u001b[39msaveobj(mean_path, means[i])\n",
      "\u001b[1;31mIndexError\u001b[0m: list index out of range"
     ]
    }
   ],
   "source": [
    "# write stacks with averaged frames to disk\n",
    "for i, roi_name in enumerate(roi_names_2rois):\n",
    "    roi_path = os.path.join(folder_with_2ROI_stacks, f\"{roi_name}_avg.tiff\")\n",
    "    mt.write_tiff(roi_path, rois[i].astype(np.int16))\n",
    "    \n",
    "    mean_path = os.path.join(folder_with_2ROI_stacks, f\"{roi_name}_mean.dict\")\n",
    "    sc.saveobj(mean_path, means[i])\n",
    "    \n",
    "    var_path = os.path.join(folder_with_2ROI_stacks, f\"{roi_name}_var.dict\")\n",
    "    sc.saveobj(var_path, variances[i])"
   ]
  },
  {
   "cell_type": "code",
   "execution_count": null,
   "metadata": {},
   "outputs": [],
   "source": [
    "### 3. plot 2-roi vs 4-roi data\n",
    "\n",
    "four_roi_mean = [four_roi_data['roi0_mean'], four_roi_data['roi1_mean'], four_roi_data['roi2_mean'], four_roi_data['roi3_mean']]\n",
    "two_roi_mean = [means[0], means[1], means[2], means[3]]\n",
    "\n",
    "four_roi_var = [four_roi_data['roi0_var'], four_roi_data['roi1_var'], four_roi_data['roi2_var'], four_roi_data['roi3_var']]\n",
    "two_roi_var = [variances[0], variances[1], variances[2], variances[3]]\n"
   ]
  },
  {
   "cell_type": "code",
   "execution_count": 7,
   "metadata": {},
   "outputs": [
    {
     "name": "stdout",
     "output_type": "stream",
     "text": [
      "Max intensity values for 4 ROI reference data: \n",
      "\n"
     ]
    },
    {
     "ename": "NameError",
     "evalue": "name 'four_roi_mean' is not defined",
     "output_type": "error",
     "traceback": [
      "\u001b[1;31m---------------------------------------------------------------------------\u001b[0m",
      "\u001b[1;31mNameError\u001b[0m                                 Traceback (most recent call last)",
      "Input \u001b[1;32mIn [7]\u001b[0m, in \u001b[0;36m<cell line: 10>\u001b[1;34m()\u001b[0m\n\u001b[0;32m      8\u001b[0m \u001b[38;5;28mprint\u001b[39m(\u001b[38;5;124mf\u001b[39m\u001b[38;5;124m\"\u001b[39m\u001b[38;5;124mMax intensity values for 4 ROI reference data: \u001b[39m\u001b[38;5;130;01m\\n\u001b[39;00m\u001b[38;5;124m\"\u001b[39m)\n\u001b[0;32m      9\u001b[0m \u001b[38;5;66;03m# pl.plot(np.array(four_roi_mean).T)\u001b[39;00m\n\u001b[1;32m---> 10\u001b[0m \u001b[38;5;28;01mfor\u001b[39;00m i, mean \u001b[38;5;129;01min\u001b[39;00m \u001b[38;5;28menumerate\u001b[39m(\u001b[43mfour_roi_mean\u001b[49m):\n\u001b[0;32m     11\u001b[0m     line, \u001b[38;5;241m=\u001b[39m pl\u001b[38;5;241m.\u001b[39mplot(mean\u001b[38;5;241m.\u001b[39mT)\n\u001b[0;32m     12\u001b[0m     line\u001b[38;5;241m.\u001b[39mset_label(roi_names[i])\n",
      "\u001b[1;31mNameError\u001b[0m: name 'four_roi_mean' is not defined"
     ]
    },
    {
     "data": {
      "image/png": "[encoded data removed]",
      "text/plain": [
       "<Figure size 1152x360 with 2 Axes>"
      ]
     },
     "metadata": {
      "needs_background": "light"
     },
     "output_type": "display_data"
    }
   ],
   "source": [
    "fig, ax = pl.subplots(1,2, figsize=(16,5))\n",
    "\n",
    "# plottnig 4-roi reference data\n",
    "pl.sca(ax[0])\n",
    "pl.ylabel('mean pixel value',fontsize=15)\n",
    "pl.xlabel('plane',fontsize=15)\n",
    "pl.title('4ROI Mean value per plane', fontsize=15)\n",
    "print(f\"Max intensity values for 4 ROI reference data: \\n\")\n",
    "# pl.plot(np.array(four_roi_mean).T)\n",
    "for i, mean in enumerate(four_roi_mean):\n",
    "    line, = pl.plot(mean.T)\n",
    "    line.set_label(roi_names_4rois[i])\n",
    "    max_val = np.max(mean.T)\n",
    "    print(f\"Max value for {roi_names_4rois[i]} is {max_val}, at plane number {np.where(mean.T == max_val)[0][0]}\")\n",
    "pl.legend()\n",
    "\n",
    "#plotting current stack data\n",
    "pl.sca(ax[1])\n",
    "pl.title('2ROI Mean value per plane', fontsize=15)  \n",
    "print(f\"\\nMax intensity values for current stacks: \\n\")\n",
    "for i, mean in enumerate(means):\n",
    "    line, = pl.plot(mean)\n",
    "    line.set_label(roi_names_2roi[i])\n",
    "    max_val = np.max(mean.T)\n",
    "    print(f\"Max value for {roi_names_2roi[i]} is {max_val}, at plane number {np.where(mean.T == max_val)[0][0]}\")\n",
    "pl.ylabel('mean pixel value',fontsize=15)\n",
    "pl.xlabel('plane',fontsize=15)\n",
    "pl.legend()"
   ]
  },
  {
   "cell_type": "code",
   "execution_count": null,
   "metadata": {},
   "outputs": [],
   "source": []
  }
 ],
 "metadata": {
  "kernelspec": {
   "display_name": "Python 3 (ipykernel)",
   "language": "python",
   "name": "python3"
  },
  "language_info": {
   "codemirror_mode": {
    "name": "ipython",
    "version": 3
   },
   "file_extension": ".py",
   "mimetype": "text/x-python",
   "name": "python",
   "nbconvert_exporter": "python",
   "pygments_lexer": "ipython3",
   "version": "3.8.5"
  },
  "vscode": {
   "interpreter": {
    "hash": "93b59e4be843ad01b25e072360926e6c2d45181b6c7b73e4072bd71866793653"
   }
  }
 },
 "nbformat": 4,
 "nbformat_minor": 2
}
