{
 "cells": [
  {
   "cell_type": "code",
   "execution_count": 1,
   "id": "a5b65b62",
   "metadata": {},
   "outputs": [
    {
     "data": {
      "text/html": [
       "<style>.container { width:100% !important; }</style>"
      ],
      "text/plain": [
       "<IPython.core.display.HTML object>"
      ]
     },
     "metadata": {},
     "output_type": "display_data"
    }
   ],
   "source": [
    "from IPython.core.display import display, HTML\n",
    "display(HTML(\"<style>.container { width:100% !important; }</style>\"))"
   ]
  },
  {
   "cell_type": "code",
   "execution_count": 2,
   "id": "39c1a656",
   "metadata": {},
   "outputs": [],
   "source": [
    "import sciris as sc\n",
    "import meso_tools as mt\n",
    "import matplotlib.pyplot as pl\n",
    "import pandas as pd\n",
    "import numpy as np\n",
    "import os"
   ]
  },
  {
   "cell_type": "code",
   "execution_count": 3,
   "id": "b6aca0c8",
   "metadata": {},
   "outputs": [
    {
     "ename": "FileNotFoundError",
     "evalue": "[Errno 2] No such file or directory: 'F:\\\\Code\\\\lims_credentials.dict'",
     "output_type": "error",
     "traceback": [
      "\u001b[1;31m---------------------------------------------------------------------------\u001b[0m",
      "\u001b[1;31mFileNotFoundError\u001b[0m                         Traceback (most recent call last)",
      "\u001b[1;32m~\\AppData\\Local\\Temp\\ipykernel_15188\\1203363570.py\u001b[0m in \u001b[0;36m<module>\u001b[1;34m\u001b[0m\n\u001b[0;32m      1\u001b[0m \u001b[0mlims_credential_file\u001b[0m \u001b[1;33m=\u001b[0m \u001b[1;34mr\"F:/Code/lims_credentials.dict\"\u001b[0m\u001b[1;33m\u001b[0m\u001b[0m\n\u001b[1;32m----> 2\u001b[1;33m \u001b[0mlims_credentials\u001b[0m \u001b[1;33m=\u001b[0m \u001b[0msc\u001b[0m\u001b[1;33m.\u001b[0m\u001b[0mloadobj\u001b[0m\u001b[1;33m(\u001b[0m\u001b[0mlims_credential_file\u001b[0m\u001b[1;33m)\u001b[0m\u001b[1;33m\u001b[0m\u001b[0m\n\u001b[0m\u001b[0;32m      3\u001b[0m \u001b[0mmax_proj_folder\u001b[0m \u001b[1;33m=\u001b[0m \u001b[1;34mr'\\\\allen\\programs\\mindscope\\workgroups\\learning\\SNR\\last_1000_frames'\u001b[0m\u001b[1;33m\u001b[0m\u001b[0m\n",
      "\u001b[1;32mc:\\mcpython3\\envs\\meso_data3.7\\lib\\site-packages\\sciris-1.3.3-py3.7.egg\\sciris\\sc_fileio.py\u001b[0m in \u001b[0;36mloadobj\u001b[1;34m(filename, folder, verbose, die, remapping, method, **kwargs)\u001b[0m\n\u001b[0;32m    123\u001b[0m         \u001b[0mexc\u001b[0m \u001b[1;33m=\u001b[0m \u001b[0mtype\u001b[0m\u001b[1;33m(\u001b[0m\u001b[0mE\u001b[0m\u001b[1;33m)\u001b[0m \u001b[1;31m# Figure out what kind of error it is\u001b[0m\u001b[1;33m\u001b[0m\u001b[0m\n\u001b[0;32m    124\u001b[0m         \u001b[1;32mif\u001b[0m \u001b[0mexc\u001b[0m \u001b[1;33m==\u001b[0m \u001b[0mFileNotFoundError\u001b[0m\u001b[1;33m:\u001b[0m \u001b[1;31m# This is simple, just raise directly\u001b[0m\u001b[1;33m\u001b[0m\u001b[0m\n\u001b[1;32m--> 125\u001b[1;33m             \u001b[1;32mraise\u001b[0m \u001b[0mE\u001b[0m\u001b[1;33m\u001b[0m\u001b[0m\n\u001b[0m\u001b[0;32m    126\u001b[0m         \u001b[1;32melif\u001b[0m \u001b[0mexc\u001b[0m \u001b[1;33m==\u001b[0m \u001b[0mgz\u001b[0m\u001b[1;33m.\u001b[0m\u001b[0mBadGzipFile\u001b[0m\u001b[1;33m:\u001b[0m\u001b[1;33m\u001b[0m\u001b[0m\n\u001b[0;32m    127\u001b[0m             \u001b[1;32mtry\u001b[0m\u001b[1;33m:\u001b[0m \u001b[1;31m# If the gzip file failed, first try as a regular object\u001b[0m\u001b[1;33m\u001b[0m\u001b[0m\n",
      "\u001b[1;32mc:\\mcpython3\\envs\\meso_data3.7\\lib\\site-packages\\sciris-1.3.3-py3.7.egg\\sciris\\sc_fileio.py\u001b[0m in \u001b[0;36mloadobj\u001b[1;34m(filename, folder, verbose, die, remapping, method, **kwargs)\u001b[0m\n\u001b[0;32m    118\u001b[0m     \u001b[1;31m# Load the file\u001b[0m\u001b[1;33m\u001b[0m\u001b[1;33m\u001b[0m\u001b[0m\n\u001b[0;32m    119\u001b[0m     \u001b[1;32mtry\u001b[0m\u001b[1;33m:\u001b[0m\u001b[1;33m\u001b[0m\u001b[0m\n\u001b[1;32m--> 120\u001b[1;33m         \u001b[1;32mwith\u001b[0m \u001b[0mgz\u001b[0m\u001b[1;33m.\u001b[0m\u001b[0mGzipFile\u001b[0m\u001b[1;33m(\u001b[0m\u001b[1;33m**\u001b[0m\u001b[0mfileargs\u001b[0m\u001b[1;33m)\u001b[0m \u001b[1;32mas\u001b[0m \u001b[0mfileobj\u001b[0m\u001b[1;33m:\u001b[0m\u001b[1;33m\u001b[0m\u001b[0m\n\u001b[0m\u001b[0;32m    121\u001b[0m             \u001b[0mfilestr\u001b[0m \u001b[1;33m=\u001b[0m \u001b[0mfileobj\u001b[0m\u001b[1;33m.\u001b[0m\u001b[0mread\u001b[0m\u001b[1;33m(\u001b[0m\u001b[1;33m)\u001b[0m \u001b[1;31m# Convert it to a string\u001b[0m\u001b[1;33m\u001b[0m\u001b[0m\n\u001b[0;32m    122\u001b[0m     \u001b[1;32mexcept\u001b[0m \u001b[0mException\u001b[0m \u001b[1;32mas\u001b[0m \u001b[0mE\u001b[0m\u001b[1;33m:\u001b[0m \u001b[1;31m# pragma: no cover\u001b[0m\u001b[1;33m\u001b[0m\u001b[0m\n",
      "\u001b[1;32mc:\\mcpython3\\envs\\meso_data3.7\\lib\\gzip.py\u001b[0m in \u001b[0;36m__init__\u001b[1;34m(self, filename, mode, compresslevel, fileobj, mtime)\u001b[0m\n\u001b[0;32m    161\u001b[0m             \u001b[0mmode\u001b[0m \u001b[1;33m+=\u001b[0m \u001b[1;34m'b'\u001b[0m\u001b[1;33m\u001b[0m\u001b[0m\n\u001b[0;32m    162\u001b[0m         \u001b[1;32mif\u001b[0m \u001b[0mfileobj\u001b[0m \u001b[1;32mis\u001b[0m \u001b[1;32mNone\u001b[0m\u001b[1;33m:\u001b[0m\u001b[1;33m\u001b[0m\u001b[0m\n\u001b[1;32m--> 163\u001b[1;33m             \u001b[0mfileobj\u001b[0m \u001b[1;33m=\u001b[0m \u001b[0mself\u001b[0m\u001b[1;33m.\u001b[0m\u001b[0mmyfileobj\u001b[0m \u001b[1;33m=\u001b[0m \u001b[0mbuiltins\u001b[0m\u001b[1;33m.\u001b[0m\u001b[0mopen\u001b[0m\u001b[1;33m(\u001b[0m\u001b[0mfilename\u001b[0m\u001b[1;33m,\u001b[0m \u001b[0mmode\u001b[0m \u001b[1;32mor\u001b[0m \u001b[1;34m'rb'\u001b[0m\u001b[1;33m)\u001b[0m\u001b[1;33m\u001b[0m\u001b[0m\n\u001b[0m\u001b[0;32m    164\u001b[0m         \u001b[1;32mif\u001b[0m \u001b[0mfilename\u001b[0m \u001b[1;32mis\u001b[0m \u001b[1;32mNone\u001b[0m\u001b[1;33m:\u001b[0m\u001b[1;33m\u001b[0m\u001b[0m\n\u001b[0;32m    165\u001b[0m             \u001b[0mfilename\u001b[0m \u001b[1;33m=\u001b[0m \u001b[0mgetattr\u001b[0m\u001b[1;33m(\u001b[0m\u001b[0mfileobj\u001b[0m\u001b[1;33m,\u001b[0m \u001b[1;34m'name'\u001b[0m\u001b[1;33m,\u001b[0m \u001b[1;34m''\u001b[0m\u001b[1;33m)\u001b[0m\u001b[1;33m\u001b[0m\u001b[0m\n",
      "\u001b[1;31mFileNotFoundError\u001b[0m: [Errno 2] No such file or directory: 'F:\\\\Code\\\\lims_credentials.dict'"
     ]
    }
   ],
   "source": [
    "lims_credential_file = r\"F:/Code/lims_credentials.dict\"\n",
    "lims_credentials = sc.loadobj(lims_credential_file)\n",
    "max_proj_folder = r'\\\\allen\\programs\\mindscope\\workgroups\\learning\\SNR\\last_1000_frames'"
   ]
  },
  {
   "cell_type": "markdown",
   "id": "d13ebe4d",
   "metadata": {},
   "source": [
    "### enter your mouse id here: "
   ]
  },
  {
   "cell_type": "code",
   "execution_count": null,
   "id": "ad367c45",
   "metadata": {},
   "outputs": [],
   "source": [
    "mouse = 644972"
   ]
  },
  {
   "cell_type": "code",
   "execution_count": 4,
   "id": "2860fb1d",
   "metadata": {},
   "outputs": [
    {
     "ename": "NameError",
     "evalue": "name 'lims_credentials' is not defined",
     "output_type": "error",
     "traceback": [
      "\u001b[1;31m---------------------------------------------------------------------------\u001b[0m",
      "\u001b[1;31mNameError\u001b[0m                                 Traceback (most recent call last)",
      "\u001b[1;32m~\\AppData\\Local\\Temp\\ipykernel_15188\\2994315734.py\u001b[0m in \u001b[0;36m<module>\u001b[1;34m\u001b[0m\n\u001b[1;32m----> 1\u001b[1;33m \u001b[0mlapi\u001b[0m \u001b[1;33m=\u001b[0m \u001b[0mmt\u001b[0m\u001b[1;33m.\u001b[0m\u001b[0mLimsApi\u001b[0m\u001b[1;33m(\u001b[0m\u001b[0mlims_credentials\u001b[0m\u001b[1;33m)\u001b[0m\u001b[1;33m\u001b[0m\u001b[0m\n\u001b[0m\u001b[0;32m      2\u001b[0m \u001b[1;31m# get list of sessions/experiments for given mouse:\u001b[0m\u001b[1;33m\u001b[0m\u001b[1;33m\u001b[0m\u001b[0m\n\u001b[0;32m      3\u001b[0m \u001b[0mmouse_table\u001b[0m \u001b[1;33m=\u001b[0m \u001b[0mlapi\u001b[0m\u001b[1;33m.\u001b[0m\u001b[0mget_sessions_per_mouse_id\u001b[0m\u001b[1;33m(\u001b[0m\u001b[0mmouse\u001b[0m\u001b[1;33m)\u001b[0m\u001b[1;33m\u001b[0m\u001b[0m\n\u001b[0;32m      4\u001b[0m \u001b[1;33m\u001b[0m\u001b[0m\n\u001b[0;32m      5\u001b[0m \u001b[1;32mif\u001b[0m \u001b[0mlen\u001b[0m\u001b[1;33m(\u001b[0m\u001b[0mmouse_table\u001b[0m\u001b[1;33m)\u001b[0m \u001b[1;33m==\u001b[0m \u001b[1;36m0\u001b[0m\u001b[1;33m:\u001b[0m\u001b[1;33m\u001b[0m\u001b[0m\n",
      "\u001b[1;31mNameError\u001b[0m: name 'lims_credentials' is not defined"
     ]
    }
   ],
   "source": [
    "lapi = mt.LimsApi(lims_credentials)\n",
    "# get list of sessions/experiments for given mouse:\n",
    "mouse_table = lapi.get_sessions_per_mouse_id(mouse)\n",
    "\n",
    "if len(mouse_table) == 0:\n",
    "    print(f\"This mouse has no containers assigned yet\")\n",
    "else:\n",
    "\n",
    "    # containers for this mouse:\n",
    "    containers = list(mouse_table.container_id.drop_duplicates().values)\n",
    "\n",
    "    # find container with largest number of sessions, get list of sessions from it:\n",
    "    num_sessions_max = 0\n",
    "    sessions_max = mouse_table.session_id[mouse_table.container_id==containers[0]].drop_duplicates()\n",
    "    for container in containers:\n",
    "        num_sessions = len(mouse_table.session_id[mouse_table.container_id==container].drop_duplicates())\n",
    "        if num_sessions > num_sessions_max:\n",
    "            num_sessions_max = num_sessions\n",
    "            sessions_max = mouse_table.session_id[mouse_table.container_id==container].drop_duplicates()\n",
    "\n",
    "    print(f\"max number of sessions per container for this mouse is {num_sessions_max}\")"
   ]
  },
  {
   "cell_type": "markdown",
   "id": "f655c398",
   "metadata": {},
   "source": [
    "### This will regenerate max int projections from motion corrected stacks where they don't exist "
   ]
  },
  {
   "cell_type": "code",
   "execution_count": null,
   "id": "2cc8871f",
   "metadata": {},
   "outputs": [],
   "source": [
    "    # make sure max projections exist for all experiments in max_proj_folder\n",
    "    experiments = mouse_table.exp_id.values\n",
    "\n",
    "    for exp in experiments: \n",
    "\n",
    "        write_path_mean = os.path.join(max_proj_folder, f'{exp}_avg_int.tif')\n",
    "        write_path_max = os.path.join(max_proj_folder, f'{exp}_max_int.tif')\n",
    "        path_mean_proj_offset = os.path.join(max_proj_folder, f'{exp}_avg_int_offset.tif')\n",
    "        path_max_proj_offset = os.path.join(max_proj_folder, f'{exp}_max_int_offset.tif')\n",
    "\n",
    "        mean_file = not os.path.exists(write_path_mean)\n",
    "        max_file = not os.path.exists(write_path_max)\n",
    "        mean_offset_file = not os.path.exists(path_mean_proj_offset)\n",
    "        max_offset_file = not os.path.exists(path_max_proj_offset)\n",
    "\n",
    "        if mean_file or max_file or mean_offset_file or max_offset_file:\n",
    "            mc_stack_path = lapi.get_motion_corrected_stack(exp)\n",
    "\n",
    "            if  mc_stack_path:\n",
    "\n",
    "                #read motion corrected stack:\n",
    "                mc_stack_path_local = mc_stack_path.replace('/', '\\\\')\n",
    "                mc_stack_path_local = mc_stack_path_local.replace('\\\\allen', '\\\\\\\\allen')\n",
    "                stack = mt.load_motion_corrected_movie(mc_stack_path_local, pages=-1000)\n",
    "\n",
    "                # mean\n",
    "                stack_mean = stack.mean(axis=0)\n",
    "                stack_mean = stack_mean.astype(np.int16)\n",
    "                mt.write_tiff(write_path_mean, stack_mean)\n",
    "\n",
    "                # max\n",
    "                stack_max = stack.max(axis=0)\n",
    "                stack_max = stack_max.astype(np.int16)\n",
    "                mt.write_tiff(write_path_max, stack_max)\n",
    "\n",
    "                # zero-offset mean\n",
    "                im_mean_offset = mt.offset_to_zero(stack_mean)\n",
    "                im_mean_offset = im_mean_offset.astype(np.int16)\n",
    "                mt.write_tiff(path_mean_proj_offset, im_mean_offset)\n",
    "\n",
    "                # zero-offset max\n",
    "                im_max_offset = mt.offset_to_zero(stack_max)\n",
    "                im_max_offset = im_max_offset.astype(np.int16)\n",
    "                mt.write_tiff(path_max_proj_offset, im_max_offset)"
   ]
  },
  {
   "cell_type": "markdown",
   "id": "10cfe20f",
   "metadata": {},
   "source": [
    "### check if any experiments shows up in multiple containers"
   ]
  },
  {
   "cell_type": "code",
   "execution_count": null,
   "id": "404183b3",
   "metadata": {},
   "outputs": [],
   "source": [
    "exps_repeating = []\n",
    "exps = mouse_table.exp_id.drop_duplicates().values\n",
    "for exp in exps:\n",
    "    repeat = 0\n",
    "    for container in containers: \n",
    "        container_exps = mouse_table.exp_id[mouse_table.container_id==container].values\n",
    "        if exp in container_exps:\n",
    "            repeat +=1\n",
    "    if repeat != 1:\n",
    "        exps_repeating.append(exp)\n",
    "        print(f\"Experiment {exp} repeats in more than one container\")\n",
    "        \n",
    "print(f\"\\nTotal number fo experimenst is {len(exps)}, {len(exps_repeating)} assigned more than once to a container\")"
   ]
  },
  {
   "cell_type": "markdown",
   "id": "76ce2e75",
   "metadata": {},
   "source": [
    "### plot mouse data using max intensity projections "
   ]
  },
  {
   "cell_type": "code",
   "execution_count": null,
   "id": "25df8099",
   "metadata": {},
   "outputs": [],
   "source": [
    "# find max to use for normalized display of max projections\n",
    "v_max = 0\n",
    "for exp in mouse_table.exp_id.values:\n",
    "    mean_proj_path = os.path.join(max_proj_folder, f'{exp}_max_int_offset.tif')\n",
    "    im = mt.read_tiff(mean_proj_path)\n",
    "    im_max = np.max(im)\n",
    "    if im_max > v_max:\n",
    "        v_max=im_max"
   ]
  },
  {
   "cell_type": "code",
   "execution_count": null,
   "id": "601f86f1",
   "metadata": {},
   "outputs": [],
   "source": [
    "# plot containers using max projections: \n",
    "for container in containers: \n",
    "    i=1\n",
    "    fig = pl.figure(figsize = [len(sessions_max)*10, 10])\n",
    "    for session in sessions_max: \n",
    "\n",
    "        exp = mouse_table.exp_id[mouse_table.container_id==container][mouse_table.session_id==session]\n",
    "        if len(exp.values) != 0:\n",
    "            if len(exp) == 1:\n",
    "                exp=int(exp.values)\n",
    "            else:\n",
    "                exp=int(exp.values[0])\n",
    "\n",
    "            max_proj_path = os.path.join(max_proj_folder, f'{exp}_max_int_offset.tif')\n",
    "            if os.path.exists(max_proj_path):\n",
    "                im = mt.read_tiff(max_proj_path)\n",
    "                snr = np.round(mt.compute_basic_snr(im),3)\n",
    "                accutance = np.round(mt.compute_acutance(im),3)\n",
    "                photon_flux = np.round(np.sqrt(np.mean(im.flatten())),1)\n",
    "                ax = fig.add_subplot(1, num_sessions_max, i)\n",
    "                ax.imshow(im, cmap='jet', vmin=0, vmax = v_max)\n",
    "                ax.set_title(f\"ses {session}, exp {exp}\\nSNR {snr} ph_flux {photon_flux}\\n accutance {accutance}\", fontsize=22)\n",
    "                ax.axis('off')\n",
    "                \n",
    "                if exp in exps_repeating : ## I ADDED THIS\n",
    "                    autoAxis = ax.axis()\n",
    "                    rec = pl.Rectangle((autoAxis[0]-0.7,autoAxis[2]-0.2),(autoAxis[1]-autoAxis[0])+1,(autoAxis[3]-autoAxis[2])+0.4,fill=False,lw=7,color='r')\n",
    "                    rec = ax.add_patch(rec)\n",
    "                    rec.set_clip_on(False)\n",
    "                \n",
    "                i+=1\n",
    "            else:\n",
    "                ax = fig.add_subplot(1, num_sessions_max, i)\n",
    "                ax.axis('off')\n",
    "                i+=1\n",
    "        else:\n",
    "            ax = fig.add_subplot(1, num_sessions_max, i)\n",
    "            ax.axis('off')\n",
    "            i+=1\n",
    "\n",
    "    fig.text(0.1, 0.45, f\"container\\n{container}\", fontsize=22, rotation=90)"
   ]
  },
  {
   "cell_type": "markdown",
   "id": "85410655",
   "metadata": {},
   "source": [
    "### plot mouse data using average int projections "
   ]
  },
  {
   "cell_type": "code",
   "execution_count": null,
   "id": "773cf938",
   "metadata": {
    "scrolled": false
   },
   "outputs": [],
   "source": [
    "# find max to use for normalized display of max projections\n",
    "v_max = 0\n",
    "for exp in mouse_table.exp_id.values:\n",
    "    mean_proj_path = os.path.join(max_proj_folder, f'{exp}_avg_int_offset.tif')\n",
    "    im = mt.read_tiff(mean_proj_path)\n",
    "    im_max = np.max(im)\n",
    "    if im_max > v_max:\n",
    "        v_max=im_max\n",
    "\n",
    "# plot containers using avg projections: \n",
    "for container in containers: \n",
    "    i=1\n",
    "    fig = pl.figure(figsize = [len(sessions_max)*10, 10])\n",
    "    for session in sessions_max:\n",
    "\n",
    "        exp = mouse_table.exp_id[mouse_table.container_id==container][mouse_table.session_id==session]\n",
    "        if len(exp.values) != 0:\n",
    "            if len(exp) == 1:\n",
    "                exp=int(exp.values)\n",
    "            else:\n",
    "                exp=int(exp.values[0])\n",
    "\n",
    "            max_proj_path = os.path.join(max_proj_folder, f'{exp}_avg_int_offset.tif')\n",
    "            if os.path.exists(max_proj_path):\n",
    "                im = mt.read_tiff(max_proj_path)\n",
    "                snr = np.round(mt.compute_basic_snr(im),3)\n",
    "                accutance = np.round(mt.compute_acutance(im),3)\n",
    "                photon_flux = np.round(np.sqrt(np.mean(im.flatten())),1)\n",
    "                ax = fig.add_subplot(1, num_sessions_max, i)\n",
    "                ax.imshow(im, cmap='jet', vmin=0, vmax = v_max)\n",
    "                imaging_quality = np.round(photon_flux * accutance, 1)\n",
    "                ax.set_title(f\"ses {session}, exp {exp}\\nImaging quality : {imaging_quality}\", fontsize=22)\n",
    "                ax.axis('off')\n",
    "                \n",
    "                if exp in exps_repeating : ## I ADDED THIS\n",
    "                    autoAxis = ax.axis()\n",
    "                    rec = pl.Rectangle((autoAxis[0]-0.7,autoAxis[2]-0.2),(autoAxis[1]-autoAxis[0])+1,(autoAxis[3]-autoAxis[2])+0.4,fill=False,lw=7,color='r')\n",
    "                    rec = ax.add_patch(rec)\n",
    "                    rec.set_clip_on(False)\n",
    "                \n",
    "                i+=1\n",
    "            else:\n",
    "                ax = fig.add_subplot(1, num_sessions_max, i)\n",
    "                ax.set_title(f\"ses {session}, exp {exp}\", fontsize=22)\n",
    "                ax.axis('off')\n",
    "                i+=1\n",
    "        else:\n",
    "            ax = fig.add_subplot(1, num_sessions_max, i)\n",
    "            ax.axis('off')\n",
    "            i+=1\n",
    "\n",
    "    fig.text(0.1, 0.45, f\"container\\n{container}\", fontsize=22, rotation=90)"
   ]
  },
  {
   "cell_type": "code",
   "execution_count": null,
   "id": "06e8dd80",
   "metadata": {},
   "outputs": [],
   "source": []
  }
 ],
 "metadata": {
  "kernelspec": {
   "display_name": "Python 3 (ipykernel)",
   "language": "python",
   "name": "python3"
  },
  "language_info": {
   "codemirror_mode": {
    "name": "ipython",
    "version": 3
   },
   "file_extension": ".py",
   "mimetype": "text/x-python",
   "name": "python",
   "nbconvert_exporter": "python",
   "pygments_lexer": "ipython3",
   "version": "3.7.0"
  },
  "varInspector": {
   "cols": {
    "lenName": 16,
    "lenType": 16,
    "lenVar": 40
   },
   "kernels_config": {
    "python": {
     "delete_cmd_postfix": "",
     "delete_cmd_prefix": "del ",
     "library": "var_list.py",
     "varRefreshCmd": "print(var_dic_list())"
    },
    "r": {
     "delete_cmd_postfix": ") ",
     "delete_cmd_prefix": "rm(",
     "library": "var_list.r",
     "varRefreshCmd": "cat(var_dic_list()) "
    }
   },
   "types_to_exclude": [
    "module",
    "function",
    "builtin_function_or_method",
    "instance",
    "_Feature"
   ],
   "window_display": false
  }
 },
 "nbformat": 4,
 "nbformat_minor": 5
}
