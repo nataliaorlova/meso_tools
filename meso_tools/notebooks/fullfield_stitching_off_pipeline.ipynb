{
 "cells": [
  {
   "cell_type": "code",
   "execution_count": 1,
   "id": "2d975c40",
   "metadata": {},
   "outputs": [
    {
     "data": {
      "text/html": [
       "<style>.container { width:100% !important; }</style>"
      ],
      "text/plain": [
       "<IPython.core.display.HTML object>"
      ]
     },
     "metadata": {},
     "output_type": "display_data"
    }
   ],
   "source": [
    "from IPython.core.display import display, HTML\n",
    "display(HTML(\"<style>.container { width:100% !important; }</style>\"))"
   ]
  },
  {
   "cell_type": "code",
   "execution_count": 2,
   "id": "c51f98b9",
   "metadata": {},
   "outputs": [],
   "source": [
    "import matplotlib.pyplot as pl\n",
    "from meso_tools.io_utils import read_si_metadata as get_meta\n",
    "from meso_tools.io_utils import read_tiff, write_tiff\n",
    "from meso_tools.stitch_full_field import *"
   ]
  },
  {
   "cell_type": "code",
   "execution_count": null,
   "id": "26a18571",
   "metadata": {},
   "outputs": [],
   "source": [
    "### edit cell below to have correct session ID\n",
    "\n",
    "path_to_tiff = r\"D:\\dev_data\\Crystal_Scull\\629983_fullfield_anterior_00001.tif\""
   ]
  },
  {
   "cell_type": "code",
   "execution_count": null,
   "id": "3976a1f6",
   "metadata": {},
   "outputs": [],
   "source": [
    "tiff_array = read_tiff(path_to_tiff)\n",
    "\n",
    "meta = get_meta(path_to_tiff)\n",
    "\n",
    "ff_meta_dict = read_full_field_meta(meta)\n",
    "\n",
    "ff_meta_dict = check_meta(ff_meta_dict)"
   ]
  },
  {
   "cell_type": "code",
   "execution_count": null,
   "id": "413edb1e",
   "metadata": {},
   "outputs": [],
   "source": [
    "output_tiff_shape, gap = check_tiff(tiff_array, ff_meta_dict)\n",
    "\n",
    "ff_averaged_tiff = average_tiff(tiff_array, ff_meta_dict)\n",
    "\n",
    "ff_stitched_tiff, ff_meta_dict = stitch_tiff(ff_averaged_tiff, ff_meta_dict, gap, output_tiff_shape)\n",
    "\n",
    "path_to_stitched_tiff = r\"D:\\dev_data\\Crystal_Scull\\629983_fullfield_anterior_stitched.tif\"\n",
    "\n",
    "write_tiff(path_to_stitched_tiff, ff_stitched_tiff)\n",
    "\n",
    "pl.figure(figsize =[10,10])\n",
    "pl.imshow(ff_stitched_tiff)"
   ]
  }
 ],
 "metadata": {
  "kernelspec": {
   "display_name": "Python 3 (ipykernel)",
   "language": "python",
   "name": "python3"
  },
  "language_info": {
   "codemirror_mode": {
    "name": "ipython",
    "version": 3
   },
   "file_extension": ".py",
   "mimetype": "text/x-python",
   "name": "python",
   "nbconvert_exporter": "python",
   "pygments_lexer": "ipython3",
   "version": "3.7.13"
  },
  "varInspector": {
   "cols": {
    "lenName": 16,
    "lenType": 16,
    "lenVar": 40
   },
   "kernels_config": {
    "python": {
     "delete_cmd_postfix": "",
     "delete_cmd_prefix": "del ",
     "library": "var_list.py",
     "varRefreshCmd": "print(var_dic_list())"
    },
    "r": {
     "delete_cmd_postfix": ") ",
     "delete_cmd_prefix": "rm(",
     "library": "var_list.r",
     "varRefreshCmd": "cat(var_dic_list()) "
    }
   },
   "types_to_exclude": [
    "module",
    "function",
    "builtin_function_or_method",
    "instance",
    "_Feature"
   ],
   "window_display": false
  }
 },
 "nbformat": 4,
 "nbformat_minor": 5
}
