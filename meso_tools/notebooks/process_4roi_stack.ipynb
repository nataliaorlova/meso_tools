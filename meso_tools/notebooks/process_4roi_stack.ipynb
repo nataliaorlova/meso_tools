{
 "cells": [
  {
   "cell_type": "code",
   "execution_count": null,
   "metadata": {},
   "outputs": [],
   "source": [
    "import meso_tools as mt\n",
    "import os\n",
    "import numpy as np\n",
    "import matplotlib.pyplot as pl\n",
    "import tifffile\n",
    "import sciris as sc"
   ]
  },
  {
   "cell_type": "code",
   "execution_count": null,
   "metadata": {},
   "outputs": [],
   "source": [
    "four_roi_stack= 'E:\\\\dev_data\\\\OS_dendrites_stacks_pilots\\\\4roi_comparison_data\\\\617911_surface_soma_4ROIS_00001.tif'\n",
    "\n",
    "if not os.path.isfile(four_roi_stack):\n",
    "print(f\"!!!! 4 ROI stack was deleted! restore it before proceeding!!!!\")"
   ]
  },
  {
   "cell_type": "code",
   "execution_count": null,
   "metadata": {},
   "outputs": [],
   "source": [
    "#1. open tiff file\n",
    "tiff=tifffile.TiffFile(four_roi_stack, mode='rb')\n",
    "num_frames = len(tiff.pages)"
   ]
  },
  {
   "cell_type": "code",
   "execution_count": null,
   "metadata": {},
   "outputs": [],
   "source": [
    "#stack parameters\n",
    "ROIs = 4\n",
    "image_dim = 768\n",
    "spacer = 24\n",
    "\n",
    "chunk_size = 100\n",
    "chunk_num = int(np.ceil(num_frames / chunk_size))\n",
    "# allocation of output vector\n",
    "average_fluorescence = np.zeros((num_frames,))\n",
    "\n",
    "curr_frame = 0\n",
    "print(f\"Stack will be processed in {chunk_num} chunks\")"
   ]
  },
  {
   "cell_type": "code",
   "execution_count": null,
   "metadata": {},
   "outputs": [],
   "source": [
    "# 2. Initiallize arrays for averaged stacks, mean and variance outputs\n",
    "V1 = np.zeros((int(num_frames/chunk_size), image_dim , image_dim ))\n",
    "LM = np.zeros((int(num_frames/chunk_size), image_dim , image_dim ))\n",
    "PM = np.zeros((int(num_frames/chunk_size), image_dim , image_dim ))\n",
    "AM = np.zeros((int(num_frames/chunk_size), image_dim , image_dim ))\n",
    "\n",
    "mean = np.zeros((ROIs, int(num_frames/chunk_size)))\n",
    "var = np.zeros((ROIs, int(num_frames/chunk_size)))"
   ]
  },
  {
   "cell_type": "code",
   "execution_count": null,
   "metadata": {},
   "outputs": [],
   "source": [
    "# 3. loop over chunks to generate averaged stack and calculate mean and variance\n",
    "\n",
    "for i in range(chunk_num):\n",
    "\n",
    "    # load chunk of tiff:\n",
    "    frame_start = chunk_size*i\n",
    "    frame_end = chunk_size*(i+1)\n",
    "\n",
    "    # handling of the last chunk \n",
    "    if frame_end > num_frames:\n",
    "        frame_end = num_frames\n",
    "    print(f'Loading {i}th chunk, frames {frame_start} to {frame_end}')\n",
    "    tiff_array = tiff.asarray(range(frame_start,frame_end))\n",
    "\n",
    "    num_frames_chunk = tiff_array.shape[0]\n",
    "\n",
    "    # split and average 4 rois - single planes\n",
    "    V1[i,:,:] = tiff_array[:,:image_dim,:].mean(axis=0)\n",
    "    LM[i,:,:] = tiff_array[:,image_dim+spacer:2*image_dim+spacer,:].mean(axis=0)\n",
    "    AM[i,:,:] = tiff_array[:,2*image_dim+2*spacer:3*image_dim+2*spacer,:].mean(axis=0)\n",
    "    PM[i,:,:] = tiff_array[:,3*image_dim+3*spacer:,:].mean(axis=0)\n",
    "    \n",
    "    mean[0,i] = np.mean(V1[i,:,:],axis=(0,1))\n",
    "    mean[1,i] = np.mean(LM[i,:,:],axis=(0,1))\n",
    "    mean[2,i] = np.mean(AM[i,:,:],axis=(0,1))   \n",
    "    mean[3,i] = np.mean(PM[i,:,:],axis=(0,1))\n",
    "    var[0,i] = np.var(V1[i,:,:])\n",
    "    var[1,i] = np.var(LM[i,:,:])        \n",
    "    var[2,i] = np.var(AM[i,:,:])        \n",
    "    var[3,i] = np.var(PM[i,:,:])\n",
    "    \n",
    "tiff.close()"
   ]
  },
  {
   "cell_type": "code",
   "execution_count": null,
   "metadata": {},
   "outputs": [],
   "source": [
    "# 4. write dict with mean and avg data to disk\n",
    "four_roi_data = {}\n",
    "four_roi_data['roi0_mean'] = mean[0]\n",
    "four_roi_data['roi1_mean'] = mean[1]\n",
    "four_roi_data['roi2_mean'] = mean[2]\n",
    "four_roi_data['roi3_mean'] = mean[3]\n",
    "\n",
    "four_roi_data['roi0_var'] = var[0]\n",
    "four_roi_data['roi1_var'] = var[1]\n",
    "four_roi_data['roi2_var'] = var[2]\n",
    "four_roi_data['roi3_var'] = var[3]\n",
    "\n",
    "path = \"E:\\\\dev_data\\\\OS_dendrites_stacks_pilots\\\\4roi_comparison_data\\\\4_roi_data.dict\"\n",
    "sc.saveobj(path, four_roi_data)"
   ]
  },
  {
   "cell_type": "code",
   "execution_count": null,
   "metadata": {},
   "outputs": [],
   "source": [
    "# 5. write tiffs of individual averaged frames to disk\n",
    "\n",
    "v1_path = \"E:\\\\dev_data\\\\OS_dendrites_stacks_pilots\\\\4roi_comparison_data\\\\V1_avg.tiff\"\n",
    "lm_path = \"E:\\\\dev_data\\\\OS_dendrites_stacks_pilots\\\\4roi_comparison_data\\\\LM_avg.tiff\"\n",
    "am_path = \"E:\\\\dev_data\\\\OS_dendrites_stacks_pilots\\\\4roi_comparison_data\\\\AM_avg.tiff\"\n",
    "pm_path = \"E:\\\\dev_data\\\\OS_dendrites_stacks_pilots\\\\4roi_comparison_data\\\\PM_avg.tiff\"\n",
    "\n",
    "mt.write_tiff(v1_path, V1.astype(np.int16))\n",
    "mt.write_tiff(lm_path, LM.astype(np.int16))\n",
    "mt.write_tiff(am_path, AM.astype(np.int16))\n",
    "mt.write_tiff(pm_path, PM.astype(np.int16))"
   ]
  },
  {
   "cell_type": "code",
   "execution_count": null,
   "metadata": {},
   "outputs": [],
   "source": []
  },
  {
   "cell_type": "code",
   "execution_count": null,
   "metadata": {},
   "outputs": [],
   "source": []
  },
  {
   "cell_type": "code",
   "execution_count": null,
   "metadata": {},
   "outputs": [],
   "source": []
  }
 ],
 "metadata": {
  "language_info": {
   "name": "python"
  },
  "orig_nbformat": 4
 },
 "nbformat": 4,
 "nbformat_minor": 2
}
