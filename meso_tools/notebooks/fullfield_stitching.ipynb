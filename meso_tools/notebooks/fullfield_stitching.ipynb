{
 "cells": [
  {
   "cell_type": "code",
   "execution_count": 1,
   "metadata": {},
   "outputs": [
    {
     "name": "stderr",
     "output_type": "stream",
     "text": [
      "C:\\Users\\svc_mesoscope\\AppData\\Local\\Temp\\ipykernel_14192\\3777615979.py:1: DeprecationWarning: Importing display from IPython.core.display is deprecated since IPython 7.14, please import from IPython display\n",
      "  from IPython.core.display import display, HTML\n"
     ]
    },
    {
     "data": {
      "text/html": [
       "<style>.container { width:100% !important; }</style>"
      ],
      "text/plain": [
       "<IPython.core.display.HTML object>"
      ]
     },
     "metadata": {},
     "output_type": "display_data"
    }
   ],
   "source": [
    "from IPython.core.display import display, HTML\n",
    "display(HTML(\"<style>.container { width:100% !important; }</style>\"))"
   ]
  },
  {
   "cell_type": "code",
   "execution_count": 2,
   "metadata": {},
   "outputs": [],
   "source": [
    "import matplotlib.pyplot as pl\n",
    "from meso_tools.io_utils import read_si_metadata as get_meta\n",
    "from meso_tools.io_utils import read_tiff, write_tiff\n",
    "from meso_tools.stitch_full_field import *\n"
   ]
  },
  {
   "cell_type": "markdown",
   "metadata": {},
   "source": [
    "### edit cell below to have correct session ID"
   ]
  },
  {
   "cell_type": "code",
   "execution_count": 3,
   "metadata": {},
   "outputs": [],
   "source": [
    "session_id = 1197480599"
   ]
  },
  {
   "cell_type": "code",
   "execution_count": 4,
   "metadata": {
    "scrolled": true
   },
   "outputs": [
    {
     "ename": "AssertionError",
     "evalue": "Input tiff shape is unexpected",
     "output_type": "error",
     "traceback": [
      "\u001b[1;31m---------------------------------------------------------------------------\u001b[0m",
      "\u001b[1;31mAssertionError\u001b[0m                            Traceback (most recent call last)",
      "Input \u001b[1;32mIn [4]\u001b[0m, in \u001b[0;36m<cell line: 12>\u001b[1;34m()\u001b[0m\n\u001b[0;32m      8\u001b[0m ff_meta_dict \u001b[38;5;241m=\u001b[39m read_full_field_meta(meta)\n\u001b[0;32m     10\u001b[0m ff_meta_dict \u001b[38;5;241m=\u001b[39m check_meta(ff_meta_dict)\n\u001b[1;32m---> 12\u001b[0m \u001b[43mcheck_tiff\u001b[49m\u001b[43m(\u001b[49m\u001b[43mtiff_array\u001b[49m\u001b[43m,\u001b[49m\u001b[43m \u001b[49m\u001b[43mff_meta_dict\u001b[49m\u001b[43m)\u001b[49m\n\u001b[0;32m     14\u001b[0m output_tiff_shape \u001b[38;5;241m=\u001b[39m check_tiff(tiff_array, ff_meta_dict)\n\u001b[0;32m     16\u001b[0m ff_averaged_tiff \u001b[38;5;241m=\u001b[39m average_tiff(tiff_array, ff_meta_dict)\n",
      "File \u001b[1;32mc:\\users\\svc_mesoscope\\repos\\meso_tools\\meso_tools\\stitch_full_field.py:96\u001b[0m, in \u001b[0;36mcheck_tiff\u001b[1;34m(tiff_array, meta_dict)\u001b[0m\n\u001b[0;32m     93\u001b[0m expected_tiff_shape \u001b[38;5;241m=\u001b[39m [num_slices\u001b[38;5;241m*\u001b[39mnum_repeats, pix_res[\u001b[38;5;241m1\u001b[39m]\u001b[38;5;241m*\u001b[39m\u001b[38;5;28mlen\u001b[39m(rois)\u001b[38;5;241m+\u001b[39m(GAP\u001b[38;5;241m*\u001b[39m(\u001b[38;5;28mlen\u001b[39m(rois)\u001b[38;5;241m-\u001b[39m\u001b[38;5;241m1\u001b[39m)), pix_res[\u001b[38;5;241m0\u001b[39m]]\n\u001b[0;32m     94\u001b[0m tiff_shape \u001b[38;5;241m=\u001b[39m np\u001b[38;5;241m.\u001b[39mshape(tiff_array)\n\u001b[1;32m---> 96\u001b[0m \u001b[38;5;28;01massert\u001b[39;00m expected_tiff_shape \u001b[38;5;241m==\u001b[39m \u001b[38;5;28mlist\u001b[39m(tiff_shape), \u001b[38;5;124mf\u001b[39m\u001b[38;5;124m\"\u001b[39m\u001b[38;5;124mInput tiff shape is unexpected\u001b[39m\u001b[38;5;124m\"\u001b[39m\n\u001b[0;32m     98\u001b[0m \u001b[38;5;28;01mreturn\u001b[39;00m output_tiff_shape\n",
      "\u001b[1;31mAssertionError\u001b[0m: Input tiff shape is unexpected"
     ]
    }
   ],
   "source": [
    "\n",
    "GAP = 24\n",
    "\n",
    "path_to_tiff = f\"D:\\\\scanimage_ophys\\\\data/{session_id}\\\\{session_id}_fullfield.tiff\"\n",
    "tiff_array = read_tiff(path_to_tiff)\n",
    "\n",
    "meta = get_meta(path_to_tiff)\n",
    "\n",
    "ff_meta_dict = read_full_field_meta(meta)\n",
    "\n",
    "ff_meta_dict = check_meta(ff_meta_dict)\n",
    "\n",
    "check_tiff(tiff_array, ff_meta_dict)\n",
    "\n",
    "output_tiff_shape = check_tiff(tiff_array, ff_meta_dict)\n",
    "\n",
    "ff_averaged_tiff = average_tiff(tiff_array, ff_meta_dict)\n",
    "\n",
    "ff_stitched_tiff, ff_meta_dict = stitch_tiff(ff_averaged_tiff, ff_meta_dict, output_tiff_shape)\n",
    "\n",
    "surface_path = f\"E:\\\\scanimage_ophys\\\\data\\\\{session_id}\\\\{session_id}_averaged_surface.tiff\"\n",
    "\n",
    "split_surface_meta, surface_averaged = split_surface(surface_path)\n",
    "\n",
    "ff_stitched_w_surface = insert_surface_to_ff(ff_stitched_tiff, ff_meta_dict, split_surface_meta)\n",
    "\n",
    "write_tiff(path_to_tiff, ff_stitched_w_surface)\n",
    "\n",
    "pl.figure(figsize =[10,10])\n",
    "pl.imshow(ff_stitched_w_surface)"
   ]
  },
  {
   "cell_type": "code",
   "execution_count": null,
   "metadata": {},
   "outputs": [],
   "source": []
  }
 ],
 "metadata": {
  "kernelspec": {
   "display_name": "Python 3 (ipykernel)",
   "language": "python",
   "name": "python3"
  },
  "language_info": {
   "codemirror_mode": {
    "name": "ipython",
    "version": 3
   },
   "file_extension": ".py",
   "mimetype": "text/x-python",
   "name": "python",
   "nbconvert_exporter": "python",
   "pygments_lexer": "ipython3",
   "version": "3.8.5"
  }
 },
 "nbformat": 4,
 "nbformat_minor": 2
}
