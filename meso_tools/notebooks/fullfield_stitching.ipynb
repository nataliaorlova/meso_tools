{
 "cells": [
  {
   "cell_type": "markdown",
   "metadata": {},
   "source": []
  },
  {
   "cell_type": "code",
   "execution_count": null,
   "metadata": {},
   "outputs": [],
   "source": [
    "from IPython.core.display import display, HTML\n",
    "display(HTML(\"<style>.container { width:100% !important; }</style>\"))"
   ]
  },
  {
   "cell_type": "code",
   "execution_count": null,
   "metadata": {},
   "outputs": [],
   "source": [
    "import matplotlib.pyplot as pl\n",
    "from meso_tools.io_utils import read_scanimage_metadata as get_meta\n",
    "from meso_tools.io_utils import read_tiff, write_tiff\n",
    "from meso_tools.stitch_full_field import *\n",
    "import sciris as sc"
   ]
  },
  {
   "cell_type": "code",
   "execution_count": null,
   "metadata": {},
   "outputs": [],
   "source": [
    "session_id = 1223428054"
   ]
  },
  {
   "cell_type": "markdown",
   "metadata": {},
   "source": [
    "### edit cell below to have correct session ID"
   ]
  },
  {
   "cell_type": "code",
   "execution_count": null,
   "metadata": {},
   "outputs": [],
   "source": [
    "#Inputs:\n",
    "path_to_tiff = f\"E:\\\\scanimage_ophys\\\\data/{session_id}\\\\{session_id}_fullfield.tiff\"\n",
    "surface_path = f\"E:\\\\scanimage_ophys\\\\data\\\\{session_id}\\\\{session_id}_averaged_surface.tiff\"\n",
    "\n",
    "#Outputs: \n",
    "meta_path = f\"E:\\\\scanimage_ophys\\\\data/{session_id}\\\\{session_id}_fullfield_metadata.dict\"\n",
    "path_to_tiff_stitched = f\"E:\\\\scanimage_ophys\\\\data/{session_id}\\\\{session_id}_fullfield_stitched.tiff\"\n",
    "path_to_tiff_mapped = f\"E:\\\\scanimage_ophys\\\\data/{session_id}\\\\{session_id}_fullfield_stitched_mapped.tiff\"\n",
    "\n",
    "#reading tiff and it's metadata, saving metadata to a dict object to disk\n",
    "tiff_array = read_tiff(path_to_tiff)\n",
    "meta = get_meta(path_to_tiff)\n",
    "ff_meta_dict = read_full_field_meta(meta)\n",
    "ff_meta_dict = check_meta(ff_meta_dict)\n",
    "check_tiff(tiff_array, ff_meta_dict)\n",
    "output_tiff_shape, gap = check_tiff(tiff_array, ff_meta_dict)\n",
    "sc.saveobj(meta_path, ff_meta_dict)\n",
    "\n",
    "#averaging and stitching stack, writing stitched stack in a tiff file to disk\n",
    "ff_averaged_tiff = average_tiff(tiff_array, ff_meta_dict)\n",
    "ff_stitched_tiff, ff_meta_dict = stitch_tiff(ff_averaged_tiff, ff_meta_dict, gap, output_tiff_shape)\n",
    "write_tiff(path_to_tiff_stitched, ff_stitched_tiff)\n",
    "\n",
    "#splitting surface file, mapping surface images to full field, saving into a tiff\n",
    "split_surface_meta, surface_averaged = split_surface(surface_path)\n",
    "ff_stitched_mapped = insert_surface_to_ff(ff_stitched_tiff, ff_meta_dict, split_surface_meta)\n",
    "write_tiff(path_to_tiff_mapped, ff_stitched_mapped)\n",
    "\n",
    "#showing mapped image\n",
    "pl.figure(figsize =[10,10])\n",
    "pl.imshow(ff_stitched_mapped)"
   ]
  }
 ],
 "metadata": {
  "kernelspec": {
   "display_name": "Python 3.7.13 ('meso_data3.7')",
   "language": "python",
   "name": "python3"
  },
  "language_info": {
   "codemirror_mode": {
    "name": "ipython",
    "version": 3
   },
   "file_extension": ".py",
   "mimetype": "text/x-python",
   "name": "python",
   "nbconvert_exporter": "python",
   "pygments_lexer": "ipython3",
   "version": "3.7.13"
  },
  "vscode": {
   "interpreter": {
    "hash": "62baf763e8897c4eca9b4711175966fd6cdea9cf84ae45375eb11f1a6e0876c2"
   }
  }
 },
 "nbformat": 4,
 "nbformat_minor": 2
}
