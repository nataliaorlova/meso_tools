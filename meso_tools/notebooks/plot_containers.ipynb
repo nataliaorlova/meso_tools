{
 "cells": [
  {
   "cell_type": "code",
   "execution_count": 9,
   "metadata": {},
   "outputs": [],
   "source": [
    "import meso_tools as mt\n",
    "import matplotlib.pyplot as pl\n",
    "import pandas as pd\n",
    "import os"
   ]
  },
  {
   "cell_type": "code",
   "execution_count": 5,
   "metadata": {},
   "outputs": [],
   "source": [
    "lims_credentials = {} #enter credentials for the LIMS daabase.\n",
    "write_folder = '\\\\\\\\allen\\\\programs\\\\mindscope\\\\workgroups\\\\learning\\\\SNR'"
   ]
  },
  {
   "cell_type": "code",
   "execution_count": 6,
   "metadata": {},
   "outputs": [
    {
     "name": "stderr",
     "output_type": "stream",
     "text": [
      "/Users/nataliaorlova/opt/anaconda3/envs/meso_data/lib/python3.8/site-packages/pandas/io/sql.py:761: UserWarning: pandas only support SQLAlchemy connectable(engine/connection) ordatabase string URI or sqlite3 DBAPI2 connectionother DBAPI2 objects are not tested, please consider using SQLAlchemy\n",
      "  warnings.warn(\n",
      "/Users/nataliaorlova/opt/anaconda3/envs/meso_data/lib/python3.8/site-packages/pandas/io/sql.py:761: UserWarning: pandas only support SQLAlchemy connectable(engine/connection) ordatabase string URI or sqlite3 DBAPI2 connectionother DBAPI2 objects are not tested, please consider using SQLAlchemy\n",
      "  warnings.warn(\n",
      "/Users/nataliaorlova/opt/anaconda3/envs/meso_data/lib/python3.8/site-packages/pandas/io/sql.py:761: UserWarning: pandas only support SQLAlchemy connectable(engine/connection) ordatabase string URI or sqlite3 DBAPI2 connectionother DBAPI2 objects are not tested, please consider using SQLAlchemy\n",
      "  warnings.warn(\n"
     ]
    },
    {
     "data": {
      "text/plain": [
       "31"
      ]
     },
     "execution_count": 6,
     "metadata": {},
     "output_type": "execute_result"
    }
   ],
   "source": [
    "lapi = mt.LimsApi(lims_credentials)\n",
    "vis_beh_mul_exp = lapi.get_experiments_in_project('VisualBehaviorMultiscope')\n",
    "len(vis_beh_mul_exp)\n",
    "\n",
    "learning_mfish_exp = lapi.get_experiments_in_project('LearningmFISHTask1A')\n",
    "len(learning_mfish_exp)\n",
    "\n",
    "learning_mfish_dev_exp = lapi.get_experiments_in_project('LearningmFISHDevelopment')\n",
    "len(learning_mfish_dev_exp)"
   ]
  },
  {
   "cell_type": "code",
   "execution_count": 7,
   "metadata": {},
   "outputs": [
    {
     "data": {
      "text/plain": [
       "['Gad2-IRES-Cre;Slc32a1-T2A-FlpO;Ai195-hyg-629294',\n",
       " 'Gad2-IRES-Cre;Slc32a1-T2A-FlpO;Ai195-hyg-624942',\n",
       " 'Rbp4-Cre_KL100;Camk2a-tTA;Ai93-616505',\n",
       " 'Rbp4-Cre_KL100;Camk2a-tTA;Ai93-617911',\n",
       " 'Gad2-IRES-Cre;Slc32a1-T2A-FlpO;Ai195-hyg-612764',\n",
       " 'Gad2-IRES-Cre;Slc32a1-T2A-FlpO;Ai195-hyg-608368',\n",
       " 'Gad2-IRES-Cre;Slc32a1-T2A-FlpO;Ai195-hyg-603892',\n",
       " 'Gad2-IRES-Cre;Slc32a1-T2A-FlpO;Ai195-hyg-582466']"
      ]
     },
     "execution_count": 7,
     "metadata": {},
     "output_type": "execute_result"
    }
   ],
   "source": [
    "learning_mfish = pd.concat([learning_mfish_exp, learning_mfish_dev_exp])\n",
    "\n",
    "learning_mfish_mice = list(learning_mfish_exp.specimen.drop_duplicates().values)\n",
    "\n",
    "learning_mfish_mice.append(learning_mfish_dev_exp.specimen.drop_duplicates().values[0])\n",
    "\n",
    "learning_mfish_mice"
   ]
  },
  {
   "cell_type": "code",
   "execution_count": 11,
   "metadata": {},
   "outputs": [
    {
     "name": "stdout",
     "output_type": "stream",
     "text": [
      "max number of sessions per container for this mouse is 10\n"
     ]
    },
    {
     "ename": "FileNotFoundError",
     "evalue": "[Errno 2] No such file or directory: '/Users/nataliaorlova/Code/Packages/meso_tools/meso_tools/notebooks/\\\\\\\\allen\\\\programs\\\\mindscope\\\\workgroups\\\\learning\\\\SNR/1186490166_avg_int.tif'",
     "output_type": "error",
     "traceback": [
      "\u001b[0;31m---------------------------------------------------------------------------\u001b[0m",
      "\u001b[0;31mFileNotFoundError\u001b[0m                         Traceback (most recent call last)",
      "\u001b[1;32m/Users/nataliaorlova/Code/Packages/meso_tools/meso_tools/notebooks/plot_containers.ipynb Cell 5\u001b[0m in \u001b[0;36m<cell line: 14>\u001b[0;34m()\u001b[0m\n\u001b[1;32m     <a href='vscode-notebook-cell:/Users/nataliaorlova/Code/Packages/meso_tools/meso_tools/notebooks/plot_containers.ipynb#ch0000004?line=19'>20</a>\u001b[0m exp \u001b[39m=\u001b[39m\u001b[39mint\u001b[39m(exp\u001b[39m.\u001b[39mvalues)\n\u001b[1;32m     <a href='vscode-notebook-cell:/Users/nataliaorlova/Code/Packages/meso_tools/meso_tools/notebooks/plot_containers.ipynb#ch0000004?line=20'>21</a>\u001b[0m mean_proj_path \u001b[39m=\u001b[39m os\u001b[39m.\u001b[39mpath\u001b[39m.\u001b[39mjoin(write_folder, \u001b[39mf\u001b[39m\u001b[39m'\u001b[39m\u001b[39m{\u001b[39;00mexp\u001b[39m}\u001b[39;00m\u001b[39m_avg_int.tif\u001b[39m\u001b[39m'\u001b[39m)\n\u001b[0;32m---> <a href='vscode-notebook-cell:/Users/nataliaorlova/Code/Packages/meso_tools/meso_tools/notebooks/plot_containers.ipynb#ch0000004?line=21'>22</a>\u001b[0m im \u001b[39m=\u001b[39m mt\u001b[39m.\u001b[39;49mread_tiff(mean_proj_path)\n\u001b[1;32m     <a href='vscode-notebook-cell:/Users/nataliaorlova/Code/Packages/meso_tools/meso_tools/notebooks/plot_containers.ipynb#ch0000004?line=22'>23</a>\u001b[0m ax \u001b[39m=\u001b[39m fig\u001b[39m.\u001b[39madd_subplot(\u001b[39m1\u001b[39m, num_sessions_max, i)\n\u001b[1;32m     <a href='vscode-notebook-cell:/Users/nataliaorlova/Code/Packages/meso_tools/meso_tools/notebooks/plot_containers.ipynb#ch0000004?line=23'>24</a>\u001b[0m ax\u001b[39m.\u001b[39mimshow(im, cmap\u001b[39m=\u001b[39m\u001b[39m'\u001b[39m\u001b[39mjet\u001b[39m\u001b[39m'\u001b[39m)\n",
      "File \u001b[0;32m~/Code/Packages/meso_tools/meso_tools/io_utils.py:19\u001b[0m, in \u001b[0;36mread_tiff\u001b[0;34m(path_to_tiff, page_num)\u001b[0m\n\u001b[1;32m      9\u001b[0m \u001b[39mdef\u001b[39;00m \u001b[39mread_tiff\u001b[39m(path_to_tiff, page_num\u001b[39m=\u001b[39m\u001b[39mNone\u001b[39;00m):\n\u001b[1;32m     10\u001b[0m     \u001b[39m\"\"\" reads either entire tiff file, or if n is given, N pages of it\u001b[39;00m\n\u001b[1;32m     11\u001b[0m \u001b[39m        path_to_tiff: str: local path to the tifffile\u001b[39;00m\n\u001b[1;32m     12\u001b[0m \u001b[39m        page_num : int or list of 2 ints: number of pages to read, \u001b[39;00m\n\u001b[0;32m   (...)\u001b[0m\n\u001b[1;32m     17\u001b[0m \u001b[39m        tiff_array: 3D numpy array representing timeseries that was read\u001b[39;00m\n\u001b[1;32m     18\u001b[0m \u001b[39m    \"\"\"\u001b[39;00m\n\u001b[0;32m---> 19\u001b[0m     \u001b[39mwith\u001b[39;00m tifffile\u001b[39m.\u001b[39;49mTiffFile(path_to_tiff, mode \u001b[39m=\u001b[39;49m\u001b[39m'\u001b[39;49m\u001b[39mrb\u001b[39;49m\u001b[39m'\u001b[39;49m) \u001b[39mas\u001b[39;00m tiff:\n\u001b[1;32m     20\u001b[0m         \u001b[39mif\u001b[39;00m page_num: \n\u001b[1;32m     21\u001b[0m             \u001b[39mif\u001b[39;00m \u001b[39misinstance\u001b[39m(page_num, \u001b[39mlist\u001b[39m):\n\u001b[1;32m     22\u001b[0m                 \u001b[39m#read pages from range\u001b[39;00m\n",
      "File \u001b[0;32m~/opt/anaconda3/envs/meso_data/lib/python3.8/site-packages/tifffile/tifffile.py:3598\u001b[0m, in \u001b[0;36mTiffFile.__init__\u001b[0;34m(self, file, mode, name, offset, size, _multifile, _useframes, _parent, **kwargs)\u001b[0m\n\u001b[1;32m   3595\u001b[0m \u001b[39mif\u001b[39;00m mode \u001b[39mnot\u001b[39;00m \u001b[39min\u001b[39;00m (\u001b[39mNone\u001b[39;00m, \u001b[39m'\u001b[39m\u001b[39mrb\u001b[39m\u001b[39m'\u001b[39m, \u001b[39m'\u001b[39m\u001b[39mr+b\u001b[39m\u001b[39m'\u001b[39m):\n\u001b[1;32m   3596\u001b[0m     \u001b[39mraise\u001b[39;00m \u001b[39mValueError\u001b[39;00m(\u001b[39mf\u001b[39m\u001b[39m'\u001b[39m\u001b[39minvalid mode \u001b[39m\u001b[39m{\u001b[39;00mmode\u001b[39m!r}\u001b[39;00m\u001b[39m'\u001b[39m)\n\u001b[0;32m-> 3598\u001b[0m fh \u001b[39m=\u001b[39m FileHandle(file, mode\u001b[39m=\u001b[39;49mmode, name\u001b[39m=\u001b[39;49mname, offset\u001b[39m=\u001b[39;49moffset, size\u001b[39m=\u001b[39;49msize)\n\u001b[1;32m   3599\u001b[0m \u001b[39mself\u001b[39m\u001b[39m.\u001b[39m_fh \u001b[39m=\u001b[39m fh\n\u001b[1;32m   3600\u001b[0m \u001b[39mself\u001b[39m\u001b[39m.\u001b[39m_multifile \u001b[39m=\u001b[39m \u001b[39mTrue\u001b[39;00m \u001b[39mif\u001b[39;00m _multifile \u001b[39mis\u001b[39;00m \u001b[39mNone\u001b[39;00m \u001b[39melse\u001b[39;00m \u001b[39mbool\u001b[39m(_multifile)\n",
      "File \u001b[0;32m~/opt/anaconda3/envs/meso_data/lib/python3.8/site-packages/tifffile/tifffile.py:11829\u001b[0m, in \u001b[0;36mFileHandle.__init__\u001b[0;34m(self, file, mode, name, offset, size)\u001b[0m\n\u001b[1;32m  11827\u001b[0m \u001b[39mself\u001b[39m\u001b[39m.\u001b[39m_close \u001b[39m=\u001b[39m \u001b[39mTrue\u001b[39;00m\n\u001b[1;32m  11828\u001b[0m \u001b[39mself\u001b[39m\u001b[39m.\u001b[39m_lock \u001b[39m=\u001b[39m NullContext()\n\u001b[0;32m> 11829\u001b[0m \u001b[39mself\u001b[39;49m\u001b[39m.\u001b[39;49mopen()\n\u001b[1;32m  11830\u001b[0m \u001b[39massert\u001b[39;00m \u001b[39mself\u001b[39m\u001b[39m.\u001b[39m_fh \u001b[39mis\u001b[39;00m \u001b[39mnot\u001b[39;00m \u001b[39mNone\u001b[39;00m\n\u001b[1;32m  11831\u001b[0m \u001b[39mtry\u001b[39;00m:\n",
      "File \u001b[0;32m~/opt/anaconda3/envs/meso_data/lib/python3.8/site-packages/tifffile/tifffile.py:11848\u001b[0m, in \u001b[0;36mFileHandle.open\u001b[0;34m(self)\u001b[0m\n\u001b[1;32m  11846\u001b[0m \u001b[39mself\u001b[39m\u001b[39m.\u001b[39m_file \u001b[39m=\u001b[39m os\u001b[39m.\u001b[39mpath\u001b[39m.\u001b[39mrealpath(\u001b[39mself\u001b[39m\u001b[39m.\u001b[39m_file)\n\u001b[1;32m  11847\u001b[0m \u001b[39mself\u001b[39m\u001b[39m.\u001b[39m_dir, \u001b[39mself\u001b[39m\u001b[39m.\u001b[39m_name \u001b[39m=\u001b[39m os\u001b[39m.\u001b[39mpath\u001b[39m.\u001b[39msplit(\u001b[39mself\u001b[39m\u001b[39m.\u001b[39m_file)\n\u001b[0;32m> 11848\u001b[0m \u001b[39mself\u001b[39m\u001b[39m.\u001b[39m_fh \u001b[39m=\u001b[39m \u001b[39mopen\u001b[39;49m(\u001b[39mself\u001b[39;49m\u001b[39m.\u001b[39;49m_file, \u001b[39mself\u001b[39;49m\u001b[39m.\u001b[39;49m_mode)  \u001b[39m# type: ignore\u001b[39;00m\n\u001b[1;32m  11849\u001b[0m \u001b[39mself\u001b[39m\u001b[39m.\u001b[39m_close \u001b[39m=\u001b[39m \u001b[39mTrue\u001b[39;00m\n\u001b[1;32m  11850\u001b[0m \u001b[39mif\u001b[39;00m \u001b[39mself\u001b[39m\u001b[39m.\u001b[39m_offset \u001b[39m<\u001b[39m \u001b[39m0\u001b[39m:\n",
      "\u001b[0;31mFileNotFoundError\u001b[0m: [Errno 2] No such file or directory: '/Users/nataliaorlova/Code/Packages/meso_tools/meso_tools/notebooks/\\\\\\\\allen\\\\programs\\\\mindscope\\\\workgroups\\\\learning\\\\SNR/1186490166_avg_int.tif'"
     ]
    },
    {
     "data": {
      "text/plain": [
       "<Figure size 7200x720 with 0 Axes>"
      ]
     },
     "metadata": {},
     "output_type": "display_data"
    }
   ],
   "source": [
    "mouse = learning_mfish_mice[0]\n",
    "mouse_table = learning_mfish[learning_mfish.specimen == mouse]\n",
    "containers = list(mouse_table.container_id.drop_duplicates().values)\n",
    "\n",
    "# find container wiht largest number of sessions, get list of sessions from it:\n",
    "num_sessions_max = 0\n",
    "sessions_max = mouse_table.session_id[mouse_table.container_id==containers[0]]\n",
    "for container in containers:\n",
    "    num_sessions = len(mouse_table.session_id[mouse_table.container_id==container])\n",
    "    if num_sessions > num_sessions_max:\n",
    "        num_sessions_max = num_sessions\n",
    "        sessions_max = mouse_table.session_id[mouse_table.container_id==container]\n",
    "print(f\"max number of sessions per container for this mouse is {num_sessions_max}\")\n",
    "\n",
    "for container in containers: \n",
    "    i=1\n",
    "    fig = pl.figure(figsize = [len(sessions_max)*10, 10])\n",
    "    for session in sessions_max: \n",
    "        exp = mouse_table.exp_id[mouse_table.container_id==container][mouse_table.session_id==session]\n",
    "        if len(exp.values) != 0:\n",
    "            if len(exp) == 1:\n",
    "                exp=int(exp.values)\n",
    "            else:\n",
    "                exp=int(exp.values[0])\n",
    "            mean_proj_path = os.path.join(write_folder, f'{exp}_avg_int.tif')\n",
    "            im = mt.read_tiff(mean_proj_path)\n",
    "            ax = fig.add_subplot(1, num_sessions_max, i)\n",
    "            im = im.astype(np.int16)\n",
    "            ax.imshow(im, cmap='jet')\n",
    "            ax.set_title(f\"ses {session}, exp {exp}\\nmin {np.round(np.min(im),1)} max {np.round(np.max(im),1)}\\n mean {np.round(np.mean(im),1)}\", fontsize=22)\n",
    "            ax.axis('off')\n",
    "            i+=1\n",
    "        else:\n",
    "            print(f\"experiment for ses. {session}, cont. {container} doesn't exists\")\n",
    "            ax = fig.add_subplot(1, num_sessions_max, i)\n",
    "            ax.axis('off')\n",
    "            i+=1\n",
    "                \n",
    "    fig.text(0.115, 0.45, f\"container\\n{container}\", fontsize=22, rotation=90)"
   ]
  },
  {
   "cell_type": "code",
   "execution_count": 12,
   "metadata": {},
   "outputs": [
    {
     "data": {
      "text/plain": [
       "'\\\\\\\\allen\\\\programs\\\\mindscope\\\\workgroups\\\\learning\\\\SNR/1186490166_avg_int.tif'"
      ]
     },
     "execution_count": 12,
     "metadata": {},
     "output_type": "execute_result"
    }
   ],
   "source": [
    "mean_proj_path"
   ]
  },
  {
   "cell_type": "code",
   "execution_count": 14,
   "metadata": {},
   "outputs": [
    {
     "data": {
      "text/plain": [
       "False"
      ]
     },
     "execution_count": 14,
     "metadata": {},
     "output_type": "execute_result"
    }
   ],
   "source": [
    "os.path.exists(mean_proj_path)"
   ]
  },
  {
   "cell_type": "code",
   "execution_count": 15,
   "metadata": {},
   "outputs": [
    {
     "data": {
      "text/plain": [
       "'\\\\\\\\allen\\\\programs\\\\mindscope\\\\workgroups\\\\learning\\\\SNR/1186490166_avg_int.tif'"
      ]
     },
     "execution_count": 15,
     "metadata": {},
     "output_type": "execute_result"
    }
   ],
   "source": [
    "mean_proj_path"
   ]
  },
  {
   "cell_type": "code",
   "execution_count": null,
   "metadata": {},
   "outputs": [],
   "source": []
  }
 ],
 "metadata": {
  "kernelspec": {
   "display_name": "Python 3 (ipykernel)",
   "language": "python",
   "name": "python3"
  },
  "language_info": {
   "codemirror_mode": {
    "name": "ipython",
    "version": 3
   },
   "file_extension": ".py",
   "mimetype": "text/x-python",
   "name": "python",
   "nbconvert_exporter": "python",
   "pygments_lexer": "ipython3",
   "version": "3.7.13"
  },
  "varInspector": {
   "cols": {
    "lenName": 16,
    "lenType": 16,
    "lenVar": 40
   },
   "kernels_config": {
    "python": {
     "delete_cmd_postfix": "",
     "delete_cmd_prefix": "del ",
     "library": "var_list.py",
     "varRefreshCmd": "print(var_dic_list())"
    },
    "r": {
     "delete_cmd_postfix": ") ",
     "delete_cmd_prefix": "rm(",
     "library": "var_list.r",
     "varRefreshCmd": "cat(var_dic_list()) "
    }
   },
   "types_to_exclude": [
    "module",
    "function",
    "builtin_function_or_method",
    "instance",
    "_Feature"
   ],
   "window_display": false
  },
  "vscode": {
   "interpreter": {
    "hash": "93b59e4be843ad01b25e072360926e6c2d45181b6c7b73e4072bd71866793653"
   }
  }
 },
 "nbformat": 4,
 "nbformat_minor": 2
}
